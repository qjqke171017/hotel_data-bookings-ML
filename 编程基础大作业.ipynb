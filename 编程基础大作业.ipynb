{
 "cells": [
  {
   "cell_type": "code",
   "execution_count": 87,
   "metadata": {},
   "outputs": [],
   "source": [
    "import pandas as pd #加载pandas包\n",
    "import numpy as np #加载numpy包\n",
    "import matplotlib.pyplot as plt #加载matplot包\n",
    "from sklearn.model_selection import train_test_split, GridSearchCV #加载sklearn包\n",
    "from sklearn.ensemble import RandomForestClassifier\n",
    "from sklearn.metrics import accuracy_score, classification_report, roc_curve, auc\n",
    "import tensorflow as tf #加载tensorflow包以深度学习\n",
    "from tensorflow.keras.models import Sequential\n",
    "from tensorflow.keras.layers import Dense, Dropout\n",
    "from tensorflow.keras.optimizers import Adam\n",
    "from tensorflow.keras.callbacks import EarlyStopping #早停\n",
    "import warnings#取消警告\n",
    "import pandas as pd\n",
    "import matplotlib.pyplot as plt\n",
    "import seaborn as sns \n",
    "import pandas as pd\n",
    "import plotly.graph_objects as go#可视化\n",
    "\n",
    "class HotelData: #构造酒店类\n",
    "    def __init__(self, file_path):\n",
    "        self.file_path = file_path #初始化文件路径\n",
    "        self.data = None\n",
    "        self.X_train = None\n",
    "        self.X_test = None\n",
    "        self.y_train = None\n",
    "        self.y_test = None #初始化训练集预测集\n",
    "        self.rf_accuracy = None\n",
    "        self.nn_accuracy = None\n",
    "        self.rf_model = None\n",
    "        self.nn_model = None\n",
    "        self.rf_fpr = None\n",
    "        self.rf_tpr = None\n",
    "        self.nn_fpr = None\n",
    "        self.nn_tpr = None  #初始化预测准确率\n",
    "\n",
    "    # 1. 上传数据集\n",
    "    def load_data(self):\n",
    "        try:\n",
    "            self.data = pd.read_csv(self.file_path)\n",
    "            print(\"Data loaded successfully.\")\n",
    "            print(self.data.head())\n",
    "        except Exception as e: #如果数据没有成功上传则抛出错误\n",
    "            print(f\"Error loading data: {e}\")\n",
    "\n",
    "    # 2. 简易的数据清洗，处理缺失值\n",
    "    def handle_missing_values(self):\n",
    "        print(\"Missing values before handling:\\n\", self.data.isnull().sum())\n",
    "        self.data.fillna(self.data.median(), inplace=True)\n",
    "        print(\"Missing values handled.\")\n",
    "\n",
    "    # 3. 添加新的酒店数据\n",
    "    def add_new_data(self, **new_data): \n",
    "        #接收新的酒店预订记录。提供已知的信息即可，对于未提供的信息使用NA填充。但是不可以出现原数据集中没有的字段，否则抛出错误\n",
    "        try:\n",
    "            missing_columns = [col for col in self.data.columns if col not in new_data] \n",
    "            if missing_columns:\n",
    "                print(f\"Missing values for fields: {missing_columns}. These will be filled with NA.\") #提示缺少的信息使用NA填充\n",
    "            \n",
    "            complete_data = {col: new_data.get(col, np.nan) for col in self.data.columns}#将新加入的信息汇总到原数据集当中\n",
    "            new_data_df = pd.DataFrame([complete_data])\n",
    "            self.data = pd.concat([self.data, new_data_df], ignore_index=True)\n",
    "            print(\"New data added successfully.\") #提示新预订记录成功添加\n",
    "            print(new_data_df)\n",
    "        except Exception as e: #抛出错误：不合规范的格式或者出现了未出现过的字段\n",
    "            print(f\"Error adding new data: {e}\")\n",
    "            \n",
    "    \n",
    "    # 4.研究字段信息\n",
    "    def field_statistics(self, field_name):\n",
    "        try:\n",
    "            if field_name not in self.data.columns: #如果输入不是数据集中的字段，则抛出错误\n",
    "                raise ValueError(f\"Field '{field_name}' does not exist in the dataset.\")\n",
    "\n",
    "            # 如果是数值型的字段，则输出该字段的描述统计信息，包括最大值，最小值，平均数，众数，分位数，峰度偏度\n",
    "            #存储在字典中\n",
    "            if np.issubdtype(self.data[field_name].dtype, np.number):\n",
    "                stats = {\n",
    "                    'mean': self.data[field_name].mean(),\n",
    "                    'max': self.data[field_name].max(),\n",
    "                    'min': self.data[field_name].min(),\n",
    "                    'mode': self.data[field_name].mode()[0],\n",
    "                    '25th_percentile': self.data[field_name].quantile(0.25),\n",
    "                    'median': self.data[field_name].median(),\n",
    "                    '75th_percentile': self.data[field_name].quantile(0.75),\n",
    "                    'kurtosis': self.data[field_name].kurtosis(),\n",
    "                    'skewness': self.data[field_name].skew()\n",
    "                }\n",
    "                print(f\"Statistics for numeric field '{field_name}': {stats}\")\n",
    "                return stats\n",
    "\n",
    "            #如果是非数值型的字段，则当做因子型统计不同字符的出现次数。\n",
    "            else:\n",
    "                value_counts = self.data[field_name].value_counts()\n",
    "                print(f\"Value counts for non-numeric field '{field_name}':\\n{value_counts}\")\n",
    "                return value_counts\n",
    "\n",
    "        except Exception as e:\n",
    "            print(f\"Error calculating statistics for field '{field_name}': {e}\") #若不是字段，抛出错误\n",
    "\n",
    "    # 5.简易数据可视化\n",
    "    def visualize_data(self, field_name):\n",
    "        try:\n",
    "            if field_name not in self.data.columns: #如果输入的参数不是字段名称，则报错\n",
    "                raise ValueError(f\"Field '{field_name}' does not exist in the dataset.\")\n",
    "\n",
    "            if np.issubdtype(self.data[field_name].dtype, np.number): #如果是数值型变量，则绘制直方图。\n",
    "                plt.hist(self.data[field_name].dropna(), bins=30, edgecolor='k', alpha=0.7)\n",
    "                plt.title(f\"Histogram of {field_name}\")\n",
    "                plt.xlabel(field_name)\n",
    "                plt.ylabel(\"Frequency\")\n",
    "                plt.show()\n",
    "            else: #如果是非数值型变量，则绘制条形图。\n",
    "                self.data[field_name].value_counts().plot(kind='bar', color='skyblue', edgecolor='k')\n",
    "                plt.title(f\"Bar Chart of {field_name}\")\n",
    "                plt.xlabel(field_name)\n",
    "                plt.ylabel(\"Frequency\")\n",
    "                plt.show()\n",
    "        except Exception as e: #不是字段名称，则报错\n",
    "            print(f\"Error visualizing data for field '{field_name}': {e}\")\n",
    "\n",
    "    # 6. 数据划分，为机器学习模型的训练做准备\n",
    "    def prepare_data(self):\n",
    "        print(\"Preparing data for machine learning...\") #提示划分数据中\n",
    "        df = self.data.copy() #将数据集进行复制\n",
    "        df = pd.get_dummies(df, drop_first=True)  #onehot编码\n",
    "        df.fillna(0, inplace=True) \n",
    "        self.X = df.drop('is_canceled', axis=1) #按照取消率标签分类\n",
    "        self.y = df['is_canceled']\n",
    "        self.X_train, self.X_test, self.y_train, self.y_test = train_test_split(self.X, self.y, test_size=0.2, random_state=42)\n",
    "        #设置好随机状态随机划分训练集与测试机。80%作为训练集，20%作为测试机。\n",
    "        print(\"Data prepared successfully.\") #提示数据划分完成\n",
    "\n",
    "     # 7. 随机森林方法\n",
    "    def random_forest_study(self, n_estimators=100, max_depth=None, min_samples_split=2):\n",
    "        print(\"Training Random Forest...\")\n",
    "        try:\n",
    "            # 初始化随机森林模型\n",
    "            self.rf_model = RandomForestClassifier(n_estimators=n_estimators, \n",
    "                                                   max_depth=max_depth, \n",
    "                                                   min_samples_split=min_samples_split, \n",
    "                                                   random_state=42)\n",
    "            # 训练模型\n",
    "            self.rf_model.fit(self.X_train, self.y_train)\n",
    "\n",
    "            # 在测试集上预测\n",
    "            rf_pred = self.rf_model.predict(self.X_test)\n",
    "            self.rf_accuracy = accuracy_score(self.y_test, rf_pred)\n",
    "            print(\"Random Forest Accuracy:\", self.rf_accuracy)\n",
    "            print(classification_report(self.y_test, rf_pred))\n",
    "\n",
    "            # 计算 ROC 曲线\n",
    "            rf_probs = self.rf_model.predict_proba(self.X_test)[:, 1]\n",
    "            self.rf_fpr, self.rf_tpr, _ = roc_curve(self.y_test, rf_probs)\n",
    "        \n",
    "            # 输出特征重要性\n",
    "            importances = self.rf_model.feature_importances_\n",
    "            feature_names = self.X_train.columns\n",
    "            important_features = sorted(zip(importances, feature_names), reverse=True)\n",
    "            print(\"Top 10 important features:\")\n",
    "            print(important_features[:10])\n",
    "        \n",
    "            return self.rf_accuracy\n",
    "        except ValueError as e:\n",
    "            print(f\"Error during Random Forest training: {e}\")\n",
    "            print(\"Check if there are invalid values in the dataset.\")\n",
    "\n",
    "\n",
    "    # 8. 神经网络方法\n",
    "    def mlp_study(self, epochs=20, dropout_rate=0.2, learning_rate=0.0003, patience=5): #神经网络的参数默认值\n",
    "        print(\"Training Neural Network...\") #提示神经网络模型训练中\n",
    "        self.nn_model = Sequential([ #构造神经网络模型层次\n",
    "            Dense(128, activation='relu', input_shape=(self.X_train.shape[1],)), #使用relu激活函数\n",
    "            Dropout(dropout_rate), #dropuout百分之二十的神经元，预防过拟合发生\n",
    "            Dense(64, activation='relu'), #使用relu激活函数全连接\n",
    "            Dense(1, activation='sigmoid') #使用sigmoid激活函数进行最后的预测\n",
    "        ])\n",
    "        optimizer = Adam(learning_rate=learning_rate) #优化器使用adam\n",
    "        self.nn_model.compile(optimizer=optimizer, loss='binary_crossentropy', metrics=['accuracy']) #对于分类问题采用交叉熵损失函数\n",
    "\n",
    "        early_stopping = EarlyStopping(monitor='val_accuracy', patience=patience, restore_best_weights=True) #早停机制\n",
    "        history = self.nn_model.fit(self.X_train, self.y_train, epochs=epochs, batch_size=32, verbose=1, validation_split=0.2, callbacks=[early_stopping])\n",
    "        #对于过去历史训练的追溯\n",
    "        nn_loss, self.nn_accuracy = self.nn_model.evaluate(self.X_test, self.y_test)\n",
    "        print(\"Neural Network Accuracy:\", self.nn_accuracy) #打印神经网络的预测准确率\n",
    "\n",
    "        # 绘制ROC曲线\n",
    "        nn_probs = self.nn_model.predict(self.X_test).ravel()\n",
    "        self.nn_fpr, self.nn_tpr, _ = roc_curve(self.y_test, nn_probs)\n",
    "\n",
    "        # 绘制训练集和测试机准确率随epoch的变化\n",
    "        plt.plot(history.history['accuracy'], label='Train Accuracy')\n",
    "        plt.plot(history.history['val_accuracy'], label='Validation Accuracy')\n",
    "        plt.title('Neural Network Accuracy Over Epochs')\n",
    "        plt.xlabel('Epochs')\n",
    "        plt.ylabel('Accuracy')\n",
    "        plt.legend()\n",
    "        plt.show()\n",
    "        return self.nn_accuracy\n",
    "    \n",
    "    # 7. 比较两种方法 \n",
    "    # 另一种训练方式，输入为接受两个参数字典，先后训练两个模型。\n",
    "    def compare_methods(self, rf_params={}, mlp_params={}):\n",
    "        print(\"Comparing Random Forest and Neural Network...\")\n",
    "        self.rf_accuracy = self.random_forest_study(**rf_params)\n",
    "        self.nn_accuracy = self.mlp_study(**mlp_params)\n",
    "        print(f\"Random Forest Accuracy: {self.rf_accuracy:.4f}, Neural Network Accuracy: {self.nn_accuracy:.4f}\")\n",
    "\n",
    "    # 9. 总结\n",
    "    def summarize(self):\n",
    "        print(\"Summarizing model performance...\") #总结此次机器学习任务\n",
    "\n",
    "        #绘制直方图展示两个模型准确率\n",
    "        accuracies = {'Random Forest': self.rf_accuracy, 'Neural Network': self.nn_accuracy}\n",
    "        plt.bar(accuracies.keys(), accuracies.values(), color=['skyblue', 'orange'])\n",
    "        plt.title(\"Accuracy Comparison\")\n",
    "        plt.ylabel(\"Accuracy\")\n",
    "        plt.ylim(0, 1)\n",
    "        plt.show()\n",
    "\n",
    "        # 绘制两个模型的ROC曲线\n",
    "        plt.figure(figsize=(10, 6))\n",
    "        plt.plot(self.rf_fpr, self.rf_tpr, label=f\"Random Forest (AUC = {auc(self.rf_fpr, self.rf_tpr):.2f})\", color='blue')\n",
    "        plt.plot(self.nn_fpr, self.nn_tpr, label=f\"Neural Network (AUC = {auc(self.nn_fpr, self.nn_tpr):.2f})\", color='orange')\n",
    "        plt.plot([0, 1], [0, 1], 'k--', label=\"Chance\")\n",
    "        plt.title(\"ROC Curve Comparison\")\n",
    "        plt.xlabel(\"False Positive Rate\")\n",
    "        plt.ylabel(\"True Positive Rate\")\n",
    "        plt.legend()\n",
    "        plt.grid()\n",
    "        plt.show()\n",
    "\n",
    "        # 总结哪个模型表现更好\n",
    "        if self.rf_accuracy > self.nn_accuracy:\n",
    "            result_message = f\"Random Forest performed better with an accuracy of {self.rf_accuracy:.4f} compared to Neural Network's {self.nn_accuracy:.4f}.\"\n",
    "        elif self.rf_accuracy < self.nn_accuracy:\n",
    "            result_message = f\"Neural Network performed better with an accuracy of {self.nn_accuracy:.4f} compared to Random Forest's {self.rf_accuracy:.4f}.\"\n",
    "        else:\n",
    "            result_message = f\"Both models performed equally well with an accuracy of {self.rf_accuracy:.4f}.\"\n",
    "\n",
    "        print(result_message)\n",
    "        return result_message\n",
    "    \n",
    "    #10.对新的预定记录做出退订概率的预测\n",
    "    def predict_cancellation_probability(self, new_record): #输出要求是一条完整的预订记录，不可以有缺失值。\n",
    "        try:\n",
    "            if any(pd.isnull(value) for value in new_record.values()):\n",
    "                raise ValueError(\"The input record contains missing values. Please provide complete data.\") #有预测值导致抛出错误\n",
    "            \n",
    "            if self.rf_model is None:\n",
    "                raise ValueError(\"Random Forest model has not been trained. Please run random_forest_study first.\")\n",
    "            if self.nn_model is None:\n",
    "                raise ValueError(\"Neural Network model has not been trained. Please run mlp_study first.\")\n",
    "\n",
    "\n",
    "            # 加入数据集中\n",
    "            record_df = pd.DataFrame([new_record])\n",
    "            record_df = pd.get_dummies(record_df, drop_first=True)\n",
    "            missing_cols = set(self.X_train.columns) - set(record_df.columns)\n",
    "            for col in missing_cols:\n",
    "                record_df[col] = 0\n",
    "\n",
    "            record_df = record_df[self.X_train.columns]\n",
    "\n",
    "            #预测取消率\n",
    "            rf_prob = self.rf_model.predict_proba(record_df)[:, 1][0]\n",
    "            nn_prob = self.nn_model.predict(record_df).ravel()[0]\n",
    "\n",
    "            print(f\"Random Forest model predicts cancellation probability: {rf_prob:.4f}\")\n",
    "            print(f\"Neural Network model predicts cancellation probability: {nn_prob:.4f}\")\n",
    "\n",
    "        except Exception as e:\n",
    "            print(f\"Error predicting cancellation probability: {e}\")\n",
    "\n",
    "    \n",
    "\n"
   ]
  },
  {
   "cell_type": "code",
   "execution_count": 88,
   "metadata": {},
   "outputs": [
    {
     "name": "stdout",
     "output_type": "stream",
     "text": [
      "Data loaded successfully.\n",
      "          hotel  is_canceled  lead_time  arrival_date_year arrival_date_month  \\\n",
      "0  Resort Hotel            0        342               2015               July   \n",
      "1  Resort Hotel            0        737               2015               July   \n",
      "2  Resort Hotel            0          7               2015               July   \n",
      "3  Resort Hotel            0         13               2015               July   \n",
      "4  Resort Hotel            0         14               2015               July   \n",
      "\n",
      "   arrival_date_week_number  arrival_date_day_of_month  \\\n",
      "0                        27                          1   \n",
      "1                        27                          1   \n",
      "2                        27                          1   \n",
      "3                        27                          1   \n",
      "4                        27                          1   \n",
      "\n",
      "   stays_in_weekend_nights  stays_in_week_nights  adults  ...  deposit_type  \\\n",
      "0                        0                     0       2  ...    No Deposit   \n",
      "1                        0                     0       2  ...    No Deposit   \n",
      "2                        0                     1       1  ...    No Deposit   \n",
      "3                        0                     1       1  ...    No Deposit   \n",
      "4                        0                     2       2  ...    No Deposit   \n",
      "\n",
      "   agent company days_in_waiting_list customer_type   adr  \\\n",
      "0    NaN     NaN                    0     Transient   0.0   \n",
      "1    NaN     NaN                    0     Transient   0.0   \n",
      "2    NaN     NaN                    0     Transient  75.0   \n",
      "3  304.0     NaN                    0     Transient  75.0   \n",
      "4  240.0     NaN                    0     Transient  98.0   \n",
      "\n",
      "   required_car_parking_spaces  total_of_special_requests  reservation_status  \\\n",
      "0                            0                          0           Check-Out   \n",
      "1                            0                          0           Check-Out   \n",
      "2                            0                          0           Check-Out   \n",
      "3                            0                          0           Check-Out   \n",
      "4                            0                          1           Check-Out   \n",
      "\n",
      "  reservation_status_date  \n",
      "0                2015/7/1  \n",
      "1                2015/7/1  \n",
      "2                2015/7/2  \n",
      "3                2015/7/2  \n",
      "4                2015/7/3  \n",
      "\n",
      "[5 rows x 32 columns]\n",
      "Missing values before handling:\n",
      " hotel                                  0\n",
      "is_canceled                            0\n",
      "lead_time                              0\n",
      "arrival_date_year                      0\n",
      "arrival_date_month                     0\n",
      "arrival_date_week_number               0\n",
      "arrival_date_day_of_month              0\n",
      "stays_in_weekend_nights                0\n",
      "stays_in_week_nights                   0\n",
      "adults                                 0\n",
      "children                               4\n",
      "babies                                 0\n",
      "meal                                   0\n",
      "country                              488\n",
      "market_segment                         0\n",
      "distribution_channel                   0\n",
      "is_repeated_guest                      0\n",
      "previous_cancellations                 0\n",
      "previous_bookings_not_canceled         0\n",
      "reserved_room_type                     0\n",
      "assigned_room_type                     0\n",
      "booking_changes                        0\n",
      "deposit_type                           0\n",
      "agent                              16340\n",
      "company                           112593\n",
      "days_in_waiting_list                   0\n",
      "customer_type                          0\n",
      "adr                                    0\n",
      "required_car_parking_spaces            0\n",
      "total_of_special_requests              0\n",
      "reservation_status                     0\n",
      "reservation_status_date                0\n",
      "dtype: int64\n",
      "Missing values handled.\n"
     ]
    }
   ],
   "source": [
    "# 实例化并运行\n",
    "hotel_data = HotelData(file_path='C:/Users/Lenovo/hotel_bookings.csv') #导入文件\n",
    "hotel_data.load_data() #加载数据集\n",
    "hotel_data.handle_missing_values() #显示缺失值情况"
   ]
  },
  {
   "cell_type": "code",
   "execution_count": 89,
   "metadata": {},
   "outputs": [
    {
     "name": "stdout",
     "output_type": "stream",
     "text": [
      "<class 'pandas.core.frame.DataFrame'>\n",
      "RangeIndex: 119390 entries, 0 to 119389\n",
      "Data columns (total 32 columns):\n",
      " #   Column                          Non-Null Count   Dtype  \n",
      "---  ------                          --------------   -----  \n",
      " 0   hotel                           119390 non-null  object \n",
      " 1   is_canceled                     119390 non-null  int64  \n",
      " 2   lead_time                       119390 non-null  int64  \n",
      " 3   arrival_date_year               119390 non-null  int64  \n",
      " 4   arrival_date_month              119390 non-null  object \n",
      " 5   arrival_date_week_number        119390 non-null  int64  \n",
      " 6   arrival_date_day_of_month       119390 non-null  int64  \n",
      " 7   stays_in_weekend_nights         119390 non-null  int64  \n",
      " 8   stays_in_week_nights            119390 non-null  int64  \n",
      " 9   adults                          119390 non-null  int64  \n",
      " 10  children                        119390 non-null  float64\n",
      " 11  babies                          119390 non-null  int64  \n",
      " 12  meal                            119390 non-null  object \n",
      " 13  country                         118902 non-null  object \n",
      " 14  market_segment                  119390 non-null  object \n",
      " 15  distribution_channel            119390 non-null  object \n",
      " 16  is_repeated_guest               119390 non-null  int64  \n",
      " 17  previous_cancellations          119390 non-null  int64  \n",
      " 18  previous_bookings_not_canceled  119390 non-null  int64  \n",
      " 19  reserved_room_type              119390 non-null  object \n",
      " 20  assigned_room_type              119390 non-null  object \n",
      " 21  booking_changes                 119390 non-null  int64  \n",
      " 22  deposit_type                    119390 non-null  object \n",
      " 23  agent                           119390 non-null  float64\n",
      " 24  company                         119390 non-null  float64\n",
      " 25  days_in_waiting_list            119390 non-null  int64  \n",
      " 26  customer_type                   119390 non-null  object \n",
      " 27  adr                             119390 non-null  float64\n",
      " 28  required_car_parking_spaces     119390 non-null  int64  \n",
      " 29  total_of_special_requests       119390 non-null  int64  \n",
      " 30  reservation_status              119390 non-null  object \n",
      " 31  reservation_status_date         119390 non-null  object \n",
      "dtypes: float64(4), int64(16), object(12)\n",
      "memory usage: 29.1+ MB\n"
     ]
    }
   ],
   "source": [
    "hotel_data.data.info() #数据具体信息展示"
   ]
  },
  {
   "cell_type": "code",
   "execution_count": 90,
   "metadata": {},
   "outputs": [
    {
     "data": {
      "text/html": [
       "<div>\n",
       "<style scoped>\n",
       "    .dataframe tbody tr th:only-of-type {\n",
       "        vertical-align: middle;\n",
       "    }\n",
       "\n",
       "    .dataframe tbody tr th {\n",
       "        vertical-align: top;\n",
       "    }\n",
       "\n",
       "    .dataframe thead th {\n",
       "        text-align: right;\n",
       "    }\n",
       "</style>\n",
       "<table border=\"1\" class=\"dataframe\">\n",
       "  <thead>\n",
       "    <tr style=\"text-align: right;\">\n",
       "      <th></th>\n",
       "      <th>is_canceled</th>\n",
       "      <th>lead_time</th>\n",
       "      <th>arrival_date_year</th>\n",
       "      <th>arrival_date_week_number</th>\n",
       "      <th>arrival_date_day_of_month</th>\n",
       "      <th>stays_in_weekend_nights</th>\n",
       "      <th>stays_in_week_nights</th>\n",
       "      <th>adults</th>\n",
       "      <th>children</th>\n",
       "      <th>babies</th>\n",
       "      <th>is_repeated_guest</th>\n",
       "      <th>previous_cancellations</th>\n",
       "      <th>previous_bookings_not_canceled</th>\n",
       "      <th>booking_changes</th>\n",
       "      <th>agent</th>\n",
       "      <th>company</th>\n",
       "      <th>days_in_waiting_list</th>\n",
       "      <th>adr</th>\n",
       "      <th>required_car_parking_spaces</th>\n",
       "      <th>total_of_special_requests</th>\n",
       "    </tr>\n",
       "  </thead>\n",
       "  <tbody>\n",
       "    <tr>\n",
       "      <th>count</th>\n",
       "      <td>119390.000000</td>\n",
       "      <td>119390.000000</td>\n",
       "      <td>119390.000000</td>\n",
       "      <td>119390.000000</td>\n",
       "      <td>119390.000000</td>\n",
       "      <td>119390.000000</td>\n",
       "      <td>119390.000000</td>\n",
       "      <td>119390.000000</td>\n",
       "      <td>119390.000000</td>\n",
       "      <td>119390.000000</td>\n",
       "      <td>119390.000000</td>\n",
       "      <td>119390.000000</td>\n",
       "      <td>119390.000000</td>\n",
       "      <td>119390.000000</td>\n",
       "      <td>119390.000000</td>\n",
       "      <td>119390.000000</td>\n",
       "      <td>119390.000000</td>\n",
       "      <td>119390.000000</td>\n",
       "      <td>119390.000000</td>\n",
       "      <td>119390.000000</td>\n",
       "    </tr>\n",
       "    <tr>\n",
       "      <th>mean</th>\n",
       "      <td>0.370416</td>\n",
       "      <td>104.011416</td>\n",
       "      <td>2016.156554</td>\n",
       "      <td>27.165173</td>\n",
       "      <td>15.798241</td>\n",
       "      <td>0.927599</td>\n",
       "      <td>2.500302</td>\n",
       "      <td>1.856403</td>\n",
       "      <td>0.103886</td>\n",
       "      <td>0.007949</td>\n",
       "      <td>0.031912</td>\n",
       "      <td>0.087118</td>\n",
       "      <td>0.137097</td>\n",
       "      <td>0.221124</td>\n",
       "      <td>76.744392</td>\n",
       "      <td>179.584496</td>\n",
       "      <td>2.321149</td>\n",
       "      <td>101.831122</td>\n",
       "      <td>0.062518</td>\n",
       "      <td>0.571363</td>\n",
       "    </tr>\n",
       "    <tr>\n",
       "      <th>std</th>\n",
       "      <td>0.482918</td>\n",
       "      <td>106.863097</td>\n",
       "      <td>0.707476</td>\n",
       "      <td>13.605138</td>\n",
       "      <td>8.780829</td>\n",
       "      <td>0.998613</td>\n",
       "      <td>1.908286</td>\n",
       "      <td>0.579261</td>\n",
       "      <td>0.398555</td>\n",
       "      <td>0.097436</td>\n",
       "      <td>0.175767</td>\n",
       "      <td>0.844336</td>\n",
       "      <td>1.497437</td>\n",
       "      <td>0.652306</td>\n",
       "      <td>105.904658</td>\n",
       "      <td>31.500968</td>\n",
       "      <td>17.594721</td>\n",
       "      <td>50.535790</td>\n",
       "      <td>0.245291</td>\n",
       "      <td>0.792798</td>\n",
       "    </tr>\n",
       "    <tr>\n",
       "      <th>min</th>\n",
       "      <td>0.000000</td>\n",
       "      <td>0.000000</td>\n",
       "      <td>2015.000000</td>\n",
       "      <td>1.000000</td>\n",
       "      <td>1.000000</td>\n",
       "      <td>0.000000</td>\n",
       "      <td>0.000000</td>\n",
       "      <td>0.000000</td>\n",
       "      <td>0.000000</td>\n",
       "      <td>0.000000</td>\n",
       "      <td>0.000000</td>\n",
       "      <td>0.000000</td>\n",
       "      <td>0.000000</td>\n",
       "      <td>0.000000</td>\n",
       "      <td>1.000000</td>\n",
       "      <td>6.000000</td>\n",
       "      <td>0.000000</td>\n",
       "      <td>-6.380000</td>\n",
       "      <td>0.000000</td>\n",
       "      <td>0.000000</td>\n",
       "    </tr>\n",
       "    <tr>\n",
       "      <th>25%</th>\n",
       "      <td>0.000000</td>\n",
       "      <td>18.000000</td>\n",
       "      <td>2016.000000</td>\n",
       "      <td>16.000000</td>\n",
       "      <td>8.000000</td>\n",
       "      <td>0.000000</td>\n",
       "      <td>1.000000</td>\n",
       "      <td>2.000000</td>\n",
       "      <td>0.000000</td>\n",
       "      <td>0.000000</td>\n",
       "      <td>0.000000</td>\n",
       "      <td>0.000000</td>\n",
       "      <td>0.000000</td>\n",
       "      <td>0.000000</td>\n",
       "      <td>9.000000</td>\n",
       "      <td>179.000000</td>\n",
       "      <td>0.000000</td>\n",
       "      <td>69.290000</td>\n",
       "      <td>0.000000</td>\n",
       "      <td>0.000000</td>\n",
       "    </tr>\n",
       "    <tr>\n",
       "      <th>50%</th>\n",
       "      <td>0.000000</td>\n",
       "      <td>69.000000</td>\n",
       "      <td>2016.000000</td>\n",
       "      <td>28.000000</td>\n",
       "      <td>16.000000</td>\n",
       "      <td>1.000000</td>\n",
       "      <td>2.000000</td>\n",
       "      <td>2.000000</td>\n",
       "      <td>0.000000</td>\n",
       "      <td>0.000000</td>\n",
       "      <td>0.000000</td>\n",
       "      <td>0.000000</td>\n",
       "      <td>0.000000</td>\n",
       "      <td>0.000000</td>\n",
       "      <td>14.000000</td>\n",
       "      <td>179.000000</td>\n",
       "      <td>0.000000</td>\n",
       "      <td>94.575000</td>\n",
       "      <td>0.000000</td>\n",
       "      <td>0.000000</td>\n",
       "    </tr>\n",
       "    <tr>\n",
       "      <th>75%</th>\n",
       "      <td>1.000000</td>\n",
       "      <td>160.000000</td>\n",
       "      <td>2017.000000</td>\n",
       "      <td>38.000000</td>\n",
       "      <td>23.000000</td>\n",
       "      <td>2.000000</td>\n",
       "      <td>3.000000</td>\n",
       "      <td>2.000000</td>\n",
       "      <td>0.000000</td>\n",
       "      <td>0.000000</td>\n",
       "      <td>0.000000</td>\n",
       "      <td>0.000000</td>\n",
       "      <td>0.000000</td>\n",
       "      <td>0.000000</td>\n",
       "      <td>152.000000</td>\n",
       "      <td>179.000000</td>\n",
       "      <td>0.000000</td>\n",
       "      <td>126.000000</td>\n",
       "      <td>0.000000</td>\n",
       "      <td>1.000000</td>\n",
       "    </tr>\n",
       "    <tr>\n",
       "      <th>max</th>\n",
       "      <td>1.000000</td>\n",
       "      <td>737.000000</td>\n",
       "      <td>2017.000000</td>\n",
       "      <td>53.000000</td>\n",
       "      <td>31.000000</td>\n",
       "      <td>19.000000</td>\n",
       "      <td>50.000000</td>\n",
       "      <td>55.000000</td>\n",
       "      <td>10.000000</td>\n",
       "      <td>10.000000</td>\n",
       "      <td>1.000000</td>\n",
       "      <td>26.000000</td>\n",
       "      <td>72.000000</td>\n",
       "      <td>21.000000</td>\n",
       "      <td>535.000000</td>\n",
       "      <td>543.000000</td>\n",
       "      <td>391.000000</td>\n",
       "      <td>5400.000000</td>\n",
       "      <td>8.000000</td>\n",
       "      <td>5.000000</td>\n",
       "    </tr>\n",
       "  </tbody>\n",
       "</table>\n",
       "</div>"
      ],
      "text/plain": [
       "         is_canceled      lead_time  arrival_date_year  \\\n",
       "count  119390.000000  119390.000000      119390.000000   \n",
       "mean        0.370416     104.011416        2016.156554   \n",
       "std         0.482918     106.863097           0.707476   \n",
       "min         0.000000       0.000000        2015.000000   \n",
       "25%         0.000000      18.000000        2016.000000   \n",
       "50%         0.000000      69.000000        2016.000000   \n",
       "75%         1.000000     160.000000        2017.000000   \n",
       "max         1.000000     737.000000        2017.000000   \n",
       "\n",
       "       arrival_date_week_number  arrival_date_day_of_month  \\\n",
       "count             119390.000000              119390.000000   \n",
       "mean                  27.165173                  15.798241   \n",
       "std                   13.605138                   8.780829   \n",
       "min                    1.000000                   1.000000   \n",
       "25%                   16.000000                   8.000000   \n",
       "50%                   28.000000                  16.000000   \n",
       "75%                   38.000000                  23.000000   \n",
       "max                   53.000000                  31.000000   \n",
       "\n",
       "       stays_in_weekend_nights  stays_in_week_nights         adults  \\\n",
       "count            119390.000000         119390.000000  119390.000000   \n",
       "mean                  0.927599              2.500302       1.856403   \n",
       "std                   0.998613              1.908286       0.579261   \n",
       "min                   0.000000              0.000000       0.000000   \n",
       "25%                   0.000000              1.000000       2.000000   \n",
       "50%                   1.000000              2.000000       2.000000   \n",
       "75%                   2.000000              3.000000       2.000000   \n",
       "max                  19.000000             50.000000      55.000000   \n",
       "\n",
       "            children         babies  is_repeated_guest  \\\n",
       "count  119390.000000  119390.000000      119390.000000   \n",
       "mean        0.103886       0.007949           0.031912   \n",
       "std         0.398555       0.097436           0.175767   \n",
       "min         0.000000       0.000000           0.000000   \n",
       "25%         0.000000       0.000000           0.000000   \n",
       "50%         0.000000       0.000000           0.000000   \n",
       "75%         0.000000       0.000000           0.000000   \n",
       "max        10.000000      10.000000           1.000000   \n",
       "\n",
       "       previous_cancellations  previous_bookings_not_canceled  \\\n",
       "count           119390.000000                   119390.000000   \n",
       "mean                 0.087118                        0.137097   \n",
       "std                  0.844336                        1.497437   \n",
       "min                  0.000000                        0.000000   \n",
       "25%                  0.000000                        0.000000   \n",
       "50%                  0.000000                        0.000000   \n",
       "75%                  0.000000                        0.000000   \n",
       "max                 26.000000                       72.000000   \n",
       "\n",
       "       booking_changes          agent        company  days_in_waiting_list  \\\n",
       "count    119390.000000  119390.000000  119390.000000         119390.000000   \n",
       "mean          0.221124      76.744392     179.584496              2.321149   \n",
       "std           0.652306     105.904658      31.500968             17.594721   \n",
       "min           0.000000       1.000000       6.000000              0.000000   \n",
       "25%           0.000000       9.000000     179.000000              0.000000   \n",
       "50%           0.000000      14.000000     179.000000              0.000000   \n",
       "75%           0.000000     152.000000     179.000000              0.000000   \n",
       "max          21.000000     535.000000     543.000000            391.000000   \n",
       "\n",
       "                 adr  required_car_parking_spaces  total_of_special_requests  \n",
       "count  119390.000000                119390.000000              119390.000000  \n",
       "mean      101.831122                     0.062518                   0.571363  \n",
       "std        50.535790                     0.245291                   0.792798  \n",
       "min        -6.380000                     0.000000                   0.000000  \n",
       "25%        69.290000                     0.000000                   0.000000  \n",
       "50%        94.575000                     0.000000                   0.000000  \n",
       "75%       126.000000                     0.000000                   1.000000  \n",
       "max      5400.000000                     8.000000                   5.000000  "
      ]
     },
     "execution_count": 90,
     "metadata": {},
     "output_type": "execute_result"
    }
   ],
   "source": [
    "hotel_data.data.describe() #数据集各个字段总览"
   ]
  },
  {
   "cell_type": "code",
   "execution_count": 91,
   "metadata": {},
   "outputs": [],
   "source": [
    "#数据清洗\n",
    "\n",
    "# 删除重复的行\n",
    "hotel_data.data.drop_duplicates(inplace=True)\n",
    "\n",
    "#删除包含缺失值的行（如果缺失值较少）\n",
    "hotel_data.data.dropna(subset=['children', 'country'], inplace=True)\n",
    "\n",
    "#对于分类数据，填充为众数\n",
    "hotel_data.data['agent'].fillna(hotel_data.data['agent'].mode()[0], inplace=True)\n",
    "\n",
    "# 处理异常值， adr取值应该大于0， 房间均价不应太高，设置为1000以下。\n",
    "hotel_data.data = hotel_data.data[(hotel_data.data['adr'] >= 0) & (hotel_data.data['adr'] <= 1000)]"
   ]
  },
  {
   "cell_type": "code",
   "execution_count": 92,
   "metadata": {},
   "outputs": [
    {
     "name": "stdout",
     "output_type": "stream",
     "text": [
      "<class 'pandas.core.frame.DataFrame'>\n",
      "Int64Index: 86942 entries, 0 to 119389\n",
      "Data columns (total 32 columns):\n",
      " #   Column                          Non-Null Count  Dtype  \n",
      "---  ------                          --------------  -----  \n",
      " 0   hotel                           86942 non-null  object \n",
      " 1   is_canceled                     86942 non-null  int64  \n",
      " 2   lead_time                       86942 non-null  int64  \n",
      " 3   arrival_date_year               86942 non-null  int64  \n",
      " 4   arrival_date_month              86942 non-null  object \n",
      " 5   arrival_date_week_number        86942 non-null  int64  \n",
      " 6   arrival_date_day_of_month       86942 non-null  int64  \n",
      " 7   stays_in_weekend_nights         86942 non-null  int64  \n",
      " 8   stays_in_week_nights            86942 non-null  int64  \n",
      " 9   adults                          86942 non-null  int64  \n",
      " 10  children                        86942 non-null  float64\n",
      " 11  babies                          86942 non-null  int64  \n",
      " 12  meal                            86942 non-null  object \n",
      " 13  country                         86942 non-null  object \n",
      " 14  market_segment                  86942 non-null  object \n",
      " 15  distribution_channel            86942 non-null  object \n",
      " 16  is_repeated_guest               86942 non-null  int64  \n",
      " 17  previous_cancellations          86942 non-null  int64  \n",
      " 18  previous_bookings_not_canceled  86942 non-null  int64  \n",
      " 19  reserved_room_type              86942 non-null  object \n",
      " 20  assigned_room_type              86942 non-null  object \n",
      " 21  booking_changes                 86942 non-null  int64  \n",
      " 22  deposit_type                    86942 non-null  object \n",
      " 23  agent                           86942 non-null  float64\n",
      " 24  company                         86942 non-null  float64\n",
      " 25  days_in_waiting_list            86942 non-null  int64  \n",
      " 26  customer_type                   86942 non-null  object \n",
      " 27  adr                             86942 non-null  float64\n",
      " 28  required_car_parking_spaces     86942 non-null  int64  \n",
      " 29  total_of_special_requests       86942 non-null  int64  \n",
      " 30  reservation_status              86942 non-null  object \n",
      " 31  reservation_status_date         86942 non-null  object \n",
      "dtypes: float64(4), int64(16), object(12)\n",
      "memory usage: 21.9+ MB\n"
     ]
    }
   ],
   "source": [
    "hotel_data.data.info()"
   ]
  },
  {
   "cell_type": "code",
   "execution_count": 93,
   "metadata": {},
   "outputs": [
    {
     "data": {
      "application/vnd.plotly.v1+json": {
       "config": {
        "plotlyServerURL": "https://plot.ly"
       },
       "data": [
        {
         "link": {
          "source": [
           0,
           0,
           1,
           1
          ],
          "target": [
           2,
           3,
           2,
           3
          ],
          "value": [
           7946,
           25575,
           16044,
           37377
          ]
         },
         "node": {
          "label": [
           "Resort Hotel",
           "City Hotel",
           "Cancelled",
           "Not Cancelled"
          ],
          "line": {
           "color": "black",
           "width": 0.5
          },
          "pad": 15,
          "thickness": 20
         },
         "type": "sankey"
        }
       ],
       "layout": {
        "font": {
         "size": 10
        },
        "template": {
         "data": {
          "bar": [
           {
            "error_x": {
             "color": "#2a3f5f"
            },
            "error_y": {
             "color": "#2a3f5f"
            },
            "marker": {
             "line": {
              "color": "#E5ECF6",
              "width": 0.5
             },
             "pattern": {
              "fillmode": "overlay",
              "size": 10,
              "solidity": 0.2
             }
            },
            "type": "bar"
           }
          ],
          "barpolar": [
           {
            "marker": {
             "line": {
              "color": "#E5ECF6",
              "width": 0.5
             },
             "pattern": {
              "fillmode": "overlay",
              "size": 10,
              "solidity": 0.2
             }
            },
            "type": "barpolar"
           }
          ],
          "carpet": [
           {
            "aaxis": {
             "endlinecolor": "#2a3f5f",
             "gridcolor": "white",
             "linecolor": "white",
             "minorgridcolor": "white",
             "startlinecolor": "#2a3f5f"
            },
            "baxis": {
             "endlinecolor": "#2a3f5f",
             "gridcolor": "white",
             "linecolor": "white",
             "minorgridcolor": "white",
             "startlinecolor": "#2a3f5f"
            },
            "type": "carpet"
           }
          ],
          "choropleth": [
           {
            "colorbar": {
             "outlinewidth": 0,
             "ticks": ""
            },
            "type": "choropleth"
           }
          ],
          "contour": [
           {
            "colorbar": {
             "outlinewidth": 0,
             "ticks": ""
            },
            "colorscale": [
             [
              0,
              "#0d0887"
             ],
             [
              0.1111111111111111,
              "#46039f"
             ],
             [
              0.2222222222222222,
              "#7201a8"
             ],
             [
              0.3333333333333333,
              "#9c179e"
             ],
             [
              0.4444444444444444,
              "#bd3786"
             ],
             [
              0.5555555555555556,
              "#d8576b"
             ],
             [
              0.6666666666666666,
              "#ed7953"
             ],
             [
              0.7777777777777778,
              "#fb9f3a"
             ],
             [
              0.8888888888888888,
              "#fdca26"
             ],
             [
              1,
              "#f0f921"
             ]
            ],
            "type": "contour"
           }
          ],
          "contourcarpet": [
           {
            "colorbar": {
             "outlinewidth": 0,
             "ticks": ""
            },
            "type": "contourcarpet"
           }
          ],
          "heatmap": [
           {
            "colorbar": {
             "outlinewidth": 0,
             "ticks": ""
            },
            "colorscale": [
             [
              0,
              "#0d0887"
             ],
             [
              0.1111111111111111,
              "#46039f"
             ],
             [
              0.2222222222222222,
              "#7201a8"
             ],
             [
              0.3333333333333333,
              "#9c179e"
             ],
             [
              0.4444444444444444,
              "#bd3786"
             ],
             [
              0.5555555555555556,
              "#d8576b"
             ],
             [
              0.6666666666666666,
              "#ed7953"
             ],
             [
              0.7777777777777778,
              "#fb9f3a"
             ],
             [
              0.8888888888888888,
              "#fdca26"
             ],
             [
              1,
              "#f0f921"
             ]
            ],
            "type": "heatmap"
           }
          ],
          "heatmapgl": [
           {
            "colorbar": {
             "outlinewidth": 0,
             "ticks": ""
            },
            "colorscale": [
             [
              0,
              "#0d0887"
             ],
             [
              0.1111111111111111,
              "#46039f"
             ],
             [
              0.2222222222222222,
              "#7201a8"
             ],
             [
              0.3333333333333333,
              "#9c179e"
             ],
             [
              0.4444444444444444,
              "#bd3786"
             ],
             [
              0.5555555555555556,
              "#d8576b"
             ],
             [
              0.6666666666666666,
              "#ed7953"
             ],
             [
              0.7777777777777778,
              "#fb9f3a"
             ],
             [
              0.8888888888888888,
              "#fdca26"
             ],
             [
              1,
              "#f0f921"
             ]
            ],
            "type": "heatmapgl"
           }
          ],
          "histogram": [
           {
            "marker": {
             "pattern": {
              "fillmode": "overlay",
              "size": 10,
              "solidity": 0.2
             }
            },
            "type": "histogram"
           }
          ],
          "histogram2d": [
           {
            "colorbar": {
             "outlinewidth": 0,
             "ticks": ""
            },
            "colorscale": [
             [
              0,
              "#0d0887"
             ],
             [
              0.1111111111111111,
              "#46039f"
             ],
             [
              0.2222222222222222,
              "#7201a8"
             ],
             [
              0.3333333333333333,
              "#9c179e"
             ],
             [
              0.4444444444444444,
              "#bd3786"
             ],
             [
              0.5555555555555556,
              "#d8576b"
             ],
             [
              0.6666666666666666,
              "#ed7953"
             ],
             [
              0.7777777777777778,
              "#fb9f3a"
             ],
             [
              0.8888888888888888,
              "#fdca26"
             ],
             [
              1,
              "#f0f921"
             ]
            ],
            "type": "histogram2d"
           }
          ],
          "histogram2dcontour": [
           {
            "colorbar": {
             "outlinewidth": 0,
             "ticks": ""
            },
            "colorscale": [
             [
              0,
              "#0d0887"
             ],
             [
              0.1111111111111111,
              "#46039f"
             ],
             [
              0.2222222222222222,
              "#7201a8"
             ],
             [
              0.3333333333333333,
              "#9c179e"
             ],
             [
              0.4444444444444444,
              "#bd3786"
             ],
             [
              0.5555555555555556,
              "#d8576b"
             ],
             [
              0.6666666666666666,
              "#ed7953"
             ],
             [
              0.7777777777777778,
              "#fb9f3a"
             ],
             [
              0.8888888888888888,
              "#fdca26"
             ],
             [
              1,
              "#f0f921"
             ]
            ],
            "type": "histogram2dcontour"
           }
          ],
          "mesh3d": [
           {
            "colorbar": {
             "outlinewidth": 0,
             "ticks": ""
            },
            "type": "mesh3d"
           }
          ],
          "parcoords": [
           {
            "line": {
             "colorbar": {
              "outlinewidth": 0,
              "ticks": ""
             }
            },
            "type": "parcoords"
           }
          ],
          "pie": [
           {
            "automargin": true,
            "type": "pie"
           }
          ],
          "scatter": [
           {
            "fillpattern": {
             "fillmode": "overlay",
             "size": 10,
             "solidity": 0.2
            },
            "type": "scatter"
           }
          ],
          "scatter3d": [
           {
            "line": {
             "colorbar": {
              "outlinewidth": 0,
              "ticks": ""
             }
            },
            "marker": {
             "colorbar": {
              "outlinewidth": 0,
              "ticks": ""
             }
            },
            "type": "scatter3d"
           }
          ],
          "scattercarpet": [
           {
            "marker": {
             "colorbar": {
              "outlinewidth": 0,
              "ticks": ""
             }
            },
            "type": "scattercarpet"
           }
          ],
          "scattergeo": [
           {
            "marker": {
             "colorbar": {
              "outlinewidth": 0,
              "ticks": ""
             }
            },
            "type": "scattergeo"
           }
          ],
          "scattergl": [
           {
            "marker": {
             "colorbar": {
              "outlinewidth": 0,
              "ticks": ""
             }
            },
            "type": "scattergl"
           }
          ],
          "scattermapbox": [
           {
            "marker": {
             "colorbar": {
              "outlinewidth": 0,
              "ticks": ""
             }
            },
            "type": "scattermapbox"
           }
          ],
          "scatterpolar": [
           {
            "marker": {
             "colorbar": {
              "outlinewidth": 0,
              "ticks": ""
             }
            },
            "type": "scatterpolar"
           }
          ],
          "scatterpolargl": [
           {
            "marker": {
             "colorbar": {
              "outlinewidth": 0,
              "ticks": ""
             }
            },
            "type": "scatterpolargl"
           }
          ],
          "scatterternary": [
           {
            "marker": {
             "colorbar": {
              "outlinewidth": 0,
              "ticks": ""
             }
            },
            "type": "scatterternary"
           }
          ],
          "surface": [
           {
            "colorbar": {
             "outlinewidth": 0,
             "ticks": ""
            },
            "colorscale": [
             [
              0,
              "#0d0887"
             ],
             [
              0.1111111111111111,
              "#46039f"
             ],
             [
              0.2222222222222222,
              "#7201a8"
             ],
             [
              0.3333333333333333,
              "#9c179e"
             ],
             [
              0.4444444444444444,
              "#bd3786"
             ],
             [
              0.5555555555555556,
              "#d8576b"
             ],
             [
              0.6666666666666666,
              "#ed7953"
             ],
             [
              0.7777777777777778,
              "#fb9f3a"
             ],
             [
              0.8888888888888888,
              "#fdca26"
             ],
             [
              1,
              "#f0f921"
             ]
            ],
            "type": "surface"
           }
          ],
          "table": [
           {
            "cells": {
             "fill": {
              "color": "#EBF0F8"
             },
             "line": {
              "color": "white"
             }
            },
            "header": {
             "fill": {
              "color": "#C8D4E3"
             },
             "line": {
              "color": "white"
             }
            },
            "type": "table"
           }
          ]
         },
         "layout": {
          "annotationdefaults": {
           "arrowcolor": "#2a3f5f",
           "arrowhead": 0,
           "arrowwidth": 1
          },
          "autotypenumbers": "strict",
          "coloraxis": {
           "colorbar": {
            "outlinewidth": 0,
            "ticks": ""
           }
          },
          "colorscale": {
           "diverging": [
            [
             0,
             "#8e0152"
            ],
            [
             0.1,
             "#c51b7d"
            ],
            [
             0.2,
             "#de77ae"
            ],
            [
             0.3,
             "#f1b6da"
            ],
            [
             0.4,
             "#fde0ef"
            ],
            [
             0.5,
             "#f7f7f7"
            ],
            [
             0.6,
             "#e6f5d0"
            ],
            [
             0.7,
             "#b8e186"
            ],
            [
             0.8,
             "#7fbc41"
            ],
            [
             0.9,
             "#4d9221"
            ],
            [
             1,
             "#276419"
            ]
           ],
           "sequential": [
            [
             0,
             "#0d0887"
            ],
            [
             0.1111111111111111,
             "#46039f"
            ],
            [
             0.2222222222222222,
             "#7201a8"
            ],
            [
             0.3333333333333333,
             "#9c179e"
            ],
            [
             0.4444444444444444,
             "#bd3786"
            ],
            [
             0.5555555555555556,
             "#d8576b"
            ],
            [
             0.6666666666666666,
             "#ed7953"
            ],
            [
             0.7777777777777778,
             "#fb9f3a"
            ],
            [
             0.8888888888888888,
             "#fdca26"
            ],
            [
             1,
             "#f0f921"
            ]
           ],
           "sequentialminus": [
            [
             0,
             "#0d0887"
            ],
            [
             0.1111111111111111,
             "#46039f"
            ],
            [
             0.2222222222222222,
             "#7201a8"
            ],
            [
             0.3333333333333333,
             "#9c179e"
            ],
            [
             0.4444444444444444,
             "#bd3786"
            ],
            [
             0.5555555555555556,
             "#d8576b"
            ],
            [
             0.6666666666666666,
             "#ed7953"
            ],
            [
             0.7777777777777778,
             "#fb9f3a"
            ],
            [
             0.8888888888888888,
             "#fdca26"
            ],
            [
             1,
             "#f0f921"
            ]
           ]
          },
          "colorway": [
           "#636efa",
           "#EF553B",
           "#00cc96",
           "#ab63fa",
           "#FFA15A",
           "#19d3f3",
           "#FF6692",
           "#B6E880",
           "#FF97FF",
           "#FECB52"
          ],
          "font": {
           "color": "#2a3f5f"
          },
          "geo": {
           "bgcolor": "white",
           "lakecolor": "white",
           "landcolor": "#E5ECF6",
           "showlakes": true,
           "showland": true,
           "subunitcolor": "white"
          },
          "hoverlabel": {
           "align": "left"
          },
          "hovermode": "closest",
          "mapbox": {
           "style": "light"
          },
          "paper_bgcolor": "white",
          "plot_bgcolor": "#E5ECF6",
          "polar": {
           "angularaxis": {
            "gridcolor": "white",
            "linecolor": "white",
            "ticks": ""
           },
           "bgcolor": "#E5ECF6",
           "radialaxis": {
            "gridcolor": "white",
            "linecolor": "white",
            "ticks": ""
           }
          },
          "scene": {
           "xaxis": {
            "backgroundcolor": "#E5ECF6",
            "gridcolor": "white",
            "gridwidth": 2,
            "linecolor": "white",
            "showbackground": true,
            "ticks": "",
            "zerolinecolor": "white"
           },
           "yaxis": {
            "backgroundcolor": "#E5ECF6",
            "gridcolor": "white",
            "gridwidth": 2,
            "linecolor": "white",
            "showbackground": true,
            "ticks": "",
            "zerolinecolor": "white"
           },
           "zaxis": {
            "backgroundcolor": "#E5ECF6",
            "gridcolor": "white",
            "gridwidth": 2,
            "linecolor": "white",
            "showbackground": true,
            "ticks": "",
            "zerolinecolor": "white"
           }
          },
          "shapedefaults": {
           "line": {
            "color": "#2a3f5f"
           }
          },
          "ternary": {
           "aaxis": {
            "gridcolor": "white",
            "linecolor": "white",
            "ticks": ""
           },
           "baxis": {
            "gridcolor": "white",
            "linecolor": "white",
            "ticks": ""
           },
           "bgcolor": "#E5ECF6",
           "caxis": {
            "gridcolor": "white",
            "linecolor": "white",
            "ticks": ""
           }
          },
          "title": {
           "x": 0.05
          },
          "xaxis": {
           "automargin": true,
           "gridcolor": "white",
           "linecolor": "white",
           "ticks": "",
           "title": {
            "standoff": 15
           },
           "zerolinecolor": "white",
           "zerolinewidth": 2
          },
          "yaxis": {
           "automargin": true,
           "gridcolor": "white",
           "linecolor": "white",
           "ticks": "",
           "title": {
            "standoff": 15
           },
           "zerolinecolor": "white",
           "zerolinewidth": 2
          }
         }
        },
        "title": {
         "text": "Sankey Diagram: Booking Flow by Hotel Type and Cancellation Status"
        }
       }
      },
      "text/html": [
       "<div>                            <div id=\"aa965c8f-a2c8-427f-bce4-962ddc5b9cc0\" class=\"plotly-graph-div\" style=\"height:525px; width:100%;\"></div>            <script type=\"text/javascript\">                require([\"plotly\"], function(Plotly) {                    window.PLOTLYENV=window.PLOTLYENV || {};                                    if (document.getElementById(\"aa965c8f-a2c8-427f-bce4-962ddc5b9cc0\")) {                    Plotly.newPlot(                        \"aa965c8f-a2c8-427f-bce4-962ddc5b9cc0\",                        [{\"link\":{\"source\":[0,0,1,1],\"target\":[2,3,2,3],\"value\":[7946,25575,16044,37377]},\"node\":{\"label\":[\"Resort Hotel\",\"City Hotel\",\"Cancelled\",\"Not Cancelled\"],\"line\":{\"color\":\"black\",\"width\":0.5},\"pad\":15,\"thickness\":20},\"type\":\"sankey\"}],                        {\"template\":{\"data\":{\"histogram2dcontour\":[{\"type\":\"histogram2dcontour\",\"colorbar\":{\"outlinewidth\":0,\"ticks\":\"\"},\"colorscale\":[[0.0,\"#0d0887\"],[0.1111111111111111,\"#46039f\"],[0.2222222222222222,\"#7201a8\"],[0.3333333333333333,\"#9c179e\"],[0.4444444444444444,\"#bd3786\"],[0.5555555555555556,\"#d8576b\"],[0.6666666666666666,\"#ed7953\"],[0.7777777777777778,\"#fb9f3a\"],[0.8888888888888888,\"#fdca26\"],[1.0,\"#f0f921\"]]}],\"choropleth\":[{\"type\":\"choropleth\",\"colorbar\":{\"outlinewidth\":0,\"ticks\":\"\"}}],\"histogram2d\":[{\"type\":\"histogram2d\",\"colorbar\":{\"outlinewidth\":0,\"ticks\":\"\"},\"colorscale\":[[0.0,\"#0d0887\"],[0.1111111111111111,\"#46039f\"],[0.2222222222222222,\"#7201a8\"],[0.3333333333333333,\"#9c179e\"],[0.4444444444444444,\"#bd3786\"],[0.5555555555555556,\"#d8576b\"],[0.6666666666666666,\"#ed7953\"],[0.7777777777777778,\"#fb9f3a\"],[0.8888888888888888,\"#fdca26\"],[1.0,\"#f0f921\"]]}],\"heatmap\":[{\"type\":\"heatmap\",\"colorbar\":{\"outlinewidth\":0,\"ticks\":\"\"},\"colorscale\":[[0.0,\"#0d0887\"],[0.1111111111111111,\"#46039f\"],[0.2222222222222222,\"#7201a8\"],[0.3333333333333333,\"#9c179e\"],[0.4444444444444444,\"#bd3786\"],[0.5555555555555556,\"#d8576b\"],[0.6666666666666666,\"#ed7953\"],[0.7777777777777778,\"#fb9f3a\"],[0.8888888888888888,\"#fdca26\"],[1.0,\"#f0f921\"]]}],\"heatmapgl\":[{\"type\":\"heatmapgl\",\"colorbar\":{\"outlinewidth\":0,\"ticks\":\"\"},\"colorscale\":[[0.0,\"#0d0887\"],[0.1111111111111111,\"#46039f\"],[0.2222222222222222,\"#7201a8\"],[0.3333333333333333,\"#9c179e\"],[0.4444444444444444,\"#bd3786\"],[0.5555555555555556,\"#d8576b\"],[0.6666666666666666,\"#ed7953\"],[0.7777777777777778,\"#fb9f3a\"],[0.8888888888888888,\"#fdca26\"],[1.0,\"#f0f921\"]]}],\"contourcarpet\":[{\"type\":\"contourcarpet\",\"colorbar\":{\"outlinewidth\":0,\"ticks\":\"\"}}],\"contour\":[{\"type\":\"contour\",\"colorbar\":{\"outlinewidth\":0,\"ticks\":\"\"},\"colorscale\":[[0.0,\"#0d0887\"],[0.1111111111111111,\"#46039f\"],[0.2222222222222222,\"#7201a8\"],[0.3333333333333333,\"#9c179e\"],[0.4444444444444444,\"#bd3786\"],[0.5555555555555556,\"#d8576b\"],[0.6666666666666666,\"#ed7953\"],[0.7777777777777778,\"#fb9f3a\"],[0.8888888888888888,\"#fdca26\"],[1.0,\"#f0f921\"]]}],\"surface\":[{\"type\":\"surface\",\"colorbar\":{\"outlinewidth\":0,\"ticks\":\"\"},\"colorscale\":[[0.0,\"#0d0887\"],[0.1111111111111111,\"#46039f\"],[0.2222222222222222,\"#7201a8\"],[0.3333333333333333,\"#9c179e\"],[0.4444444444444444,\"#bd3786\"],[0.5555555555555556,\"#d8576b\"],[0.6666666666666666,\"#ed7953\"],[0.7777777777777778,\"#fb9f3a\"],[0.8888888888888888,\"#fdca26\"],[1.0,\"#f0f921\"]]}],\"mesh3d\":[{\"type\":\"mesh3d\",\"colorbar\":{\"outlinewidth\":0,\"ticks\":\"\"}}],\"scatter\":[{\"fillpattern\":{\"fillmode\":\"overlay\",\"size\":10,\"solidity\":0.2},\"type\":\"scatter\"}],\"parcoords\":[{\"type\":\"parcoords\",\"line\":{\"colorbar\":{\"outlinewidth\":0,\"ticks\":\"\"}}}],\"scatterpolargl\":[{\"type\":\"scatterpolargl\",\"marker\":{\"colorbar\":{\"outlinewidth\":0,\"ticks\":\"\"}}}],\"bar\":[{\"error_x\":{\"color\":\"#2a3f5f\"},\"error_y\":{\"color\":\"#2a3f5f\"},\"marker\":{\"line\":{\"color\":\"#E5ECF6\",\"width\":0.5},\"pattern\":{\"fillmode\":\"overlay\",\"size\":10,\"solidity\":0.2}},\"type\":\"bar\"}],\"scattergeo\":[{\"type\":\"scattergeo\",\"marker\":{\"colorbar\":{\"outlinewidth\":0,\"ticks\":\"\"}}}],\"scatterpolar\":[{\"type\":\"scatterpolar\",\"marker\":{\"colorbar\":{\"outlinewidth\":0,\"ticks\":\"\"}}}],\"histogram\":[{\"marker\":{\"pattern\":{\"fillmode\":\"overlay\",\"size\":10,\"solidity\":0.2}},\"type\":\"histogram\"}],\"scattergl\":[{\"type\":\"scattergl\",\"marker\":{\"colorbar\":{\"outlinewidth\":0,\"ticks\":\"\"}}}],\"scatter3d\":[{\"type\":\"scatter3d\",\"line\":{\"colorbar\":{\"outlinewidth\":0,\"ticks\":\"\"}},\"marker\":{\"colorbar\":{\"outlinewidth\":0,\"ticks\":\"\"}}}],\"scattermapbox\":[{\"type\":\"scattermapbox\",\"marker\":{\"colorbar\":{\"outlinewidth\":0,\"ticks\":\"\"}}}],\"scatterternary\":[{\"type\":\"scatterternary\",\"marker\":{\"colorbar\":{\"outlinewidth\":0,\"ticks\":\"\"}}}],\"scattercarpet\":[{\"type\":\"scattercarpet\",\"marker\":{\"colorbar\":{\"outlinewidth\":0,\"ticks\":\"\"}}}],\"carpet\":[{\"aaxis\":{\"endlinecolor\":\"#2a3f5f\",\"gridcolor\":\"white\",\"linecolor\":\"white\",\"minorgridcolor\":\"white\",\"startlinecolor\":\"#2a3f5f\"},\"baxis\":{\"endlinecolor\":\"#2a3f5f\",\"gridcolor\":\"white\",\"linecolor\":\"white\",\"minorgridcolor\":\"white\",\"startlinecolor\":\"#2a3f5f\"},\"type\":\"carpet\"}],\"table\":[{\"cells\":{\"fill\":{\"color\":\"#EBF0F8\"},\"line\":{\"color\":\"white\"}},\"header\":{\"fill\":{\"color\":\"#C8D4E3\"},\"line\":{\"color\":\"white\"}},\"type\":\"table\"}],\"barpolar\":[{\"marker\":{\"line\":{\"color\":\"#E5ECF6\",\"width\":0.5},\"pattern\":{\"fillmode\":\"overlay\",\"size\":10,\"solidity\":0.2}},\"type\":\"barpolar\"}],\"pie\":[{\"automargin\":true,\"type\":\"pie\"}]},\"layout\":{\"autotypenumbers\":\"strict\",\"colorway\":[\"#636efa\",\"#EF553B\",\"#00cc96\",\"#ab63fa\",\"#FFA15A\",\"#19d3f3\",\"#FF6692\",\"#B6E880\",\"#FF97FF\",\"#FECB52\"],\"font\":{\"color\":\"#2a3f5f\"},\"hovermode\":\"closest\",\"hoverlabel\":{\"align\":\"left\"},\"paper_bgcolor\":\"white\",\"plot_bgcolor\":\"#E5ECF6\",\"polar\":{\"bgcolor\":\"#E5ECF6\",\"angularaxis\":{\"gridcolor\":\"white\",\"linecolor\":\"white\",\"ticks\":\"\"},\"radialaxis\":{\"gridcolor\":\"white\",\"linecolor\":\"white\",\"ticks\":\"\"}},\"ternary\":{\"bgcolor\":\"#E5ECF6\",\"aaxis\":{\"gridcolor\":\"white\",\"linecolor\":\"white\",\"ticks\":\"\"},\"baxis\":{\"gridcolor\":\"white\",\"linecolor\":\"white\",\"ticks\":\"\"},\"caxis\":{\"gridcolor\":\"white\",\"linecolor\":\"white\",\"ticks\":\"\"}},\"coloraxis\":{\"colorbar\":{\"outlinewidth\":0,\"ticks\":\"\"}},\"colorscale\":{\"sequential\":[[0.0,\"#0d0887\"],[0.1111111111111111,\"#46039f\"],[0.2222222222222222,\"#7201a8\"],[0.3333333333333333,\"#9c179e\"],[0.4444444444444444,\"#bd3786\"],[0.5555555555555556,\"#d8576b\"],[0.6666666666666666,\"#ed7953\"],[0.7777777777777778,\"#fb9f3a\"],[0.8888888888888888,\"#fdca26\"],[1.0,\"#f0f921\"]],\"sequentialminus\":[[0.0,\"#0d0887\"],[0.1111111111111111,\"#46039f\"],[0.2222222222222222,\"#7201a8\"],[0.3333333333333333,\"#9c179e\"],[0.4444444444444444,\"#bd3786\"],[0.5555555555555556,\"#d8576b\"],[0.6666666666666666,\"#ed7953\"],[0.7777777777777778,\"#fb9f3a\"],[0.8888888888888888,\"#fdca26\"],[1.0,\"#f0f921\"]],\"diverging\":[[0,\"#8e0152\"],[0.1,\"#c51b7d\"],[0.2,\"#de77ae\"],[0.3,\"#f1b6da\"],[0.4,\"#fde0ef\"],[0.5,\"#f7f7f7\"],[0.6,\"#e6f5d0\"],[0.7,\"#b8e186\"],[0.8,\"#7fbc41\"],[0.9,\"#4d9221\"],[1,\"#276419\"]]},\"xaxis\":{\"gridcolor\":\"white\",\"linecolor\":\"white\",\"ticks\":\"\",\"title\":{\"standoff\":15},\"zerolinecolor\":\"white\",\"automargin\":true,\"zerolinewidth\":2},\"yaxis\":{\"gridcolor\":\"white\",\"linecolor\":\"white\",\"ticks\":\"\",\"title\":{\"standoff\":15},\"zerolinecolor\":\"white\",\"automargin\":true,\"zerolinewidth\":2},\"scene\":{\"xaxis\":{\"backgroundcolor\":\"#E5ECF6\",\"gridcolor\":\"white\",\"linecolor\":\"white\",\"showbackground\":true,\"ticks\":\"\",\"zerolinecolor\":\"white\",\"gridwidth\":2},\"yaxis\":{\"backgroundcolor\":\"#E5ECF6\",\"gridcolor\":\"white\",\"linecolor\":\"white\",\"showbackground\":true,\"ticks\":\"\",\"zerolinecolor\":\"white\",\"gridwidth\":2},\"zaxis\":{\"backgroundcolor\":\"#E5ECF6\",\"gridcolor\":\"white\",\"linecolor\":\"white\",\"showbackground\":true,\"ticks\":\"\",\"zerolinecolor\":\"white\",\"gridwidth\":2}},\"shapedefaults\":{\"line\":{\"color\":\"#2a3f5f\"}},\"annotationdefaults\":{\"arrowcolor\":\"#2a3f5f\",\"arrowhead\":0,\"arrowwidth\":1},\"geo\":{\"bgcolor\":\"white\",\"landcolor\":\"#E5ECF6\",\"subunitcolor\":\"white\",\"showland\":true,\"showlakes\":true,\"lakecolor\":\"white\"},\"title\":{\"x\":0.05},\"mapbox\":{\"style\":\"light\"}}},\"title\":{\"text\":\"Sankey Diagram: Booking Flow by Hotel Type and Cancellation Status\"},\"font\":{\"size\":10}},                        {\"responsive\": true}                    ).then(function(){\n",
       "                            \n",
       "var gd = document.getElementById('aa965c8f-a2c8-427f-bce4-962ddc5b9cc0');\n",
       "var x = new MutationObserver(function (mutations, observer) {{\n",
       "        var display = window.getComputedStyle(gd).display;\n",
       "        if (!display || display === 'none') {{\n",
       "            console.log([gd, 'removed!']);\n",
       "            Plotly.purge(gd);\n",
       "            observer.disconnect();\n",
       "        }}\n",
       "}});\n",
       "\n",
       "// Listen for the removal of the full notebook cells\n",
       "var notebookContainer = gd.closest('#notebook-container');\n",
       "if (notebookContainer) {{\n",
       "    x.observe(notebookContainer, {childList: true});\n",
       "}}\n",
       "\n",
       "// Listen for the clearing of the current output cell\n",
       "var outputEl = gd.closest('.output');\n",
       "if (outputEl) {{\n",
       "    x.observe(outputEl, {childList: true});\n",
       "}}\n",
       "\n",
       "                        })                };                });            </script>        </div>"
      ]
     },
     "metadata": {},
     "output_type": "display_data"
    }
   ],
   "source": [
    "#数据可视化\n",
    "flow_data = hotel_data.data.groupby(['hotel', 'is_canceled'])['is_canceled'].count().reset_index(name='count')\n",
    "\n",
    "# 构造源和目标列表\n",
    "labels = ['Resort Hotel', 'City Hotel', 'Cancelled', 'Not Cancelled']  # 标签：酒店类型和取消情况\n",
    "sources = [0, 0, 1, 1]  # 源节点：度假酒店和城市酒店\n",
    "targets = [2, 3, 2, 3]  # 目标节点：取消和未取消\n",
    "values = [flow_data.loc[(flow_data['hotel'] == 'Resort Hotel') & (flow_data['is_canceled'] == 1), 'count'].values[0],\n",
    "          flow_data.loc[(flow_data['hotel'] == 'Resort Hotel') & (flow_data['is_canceled'] == 0), 'count'].values[0],\n",
    "          flow_data.loc[(flow_data['hotel'] == 'City Hotel') & (flow_data['is_canceled'] == 1), 'count'].values[0],\n",
    "          flow_data.loc[(flow_data['hotel'] == 'City Hotel') & (flow_data['is_canceled'] == 0), 'count'].values[0]]  # 流动量\n",
    "\n",
    "# 绘制桑基图\n",
    "fig = go.Figure(go.Sankey(\n",
    "    node=dict(\n",
    "        pad=15,\n",
    "        thickness=20,\n",
    "        line=dict(color=\"black\", width=0.5),\n",
    "        label=labels\n",
    "    ),\n",
    "    link=dict(\n",
    "        source=sources,\n",
    "        target=targets,\n",
    "        value=values\n",
    "    )\n",
    "))\n",
    "\n",
    "# 设置图表标题\n",
    "fig.update_layout(title_text=\"Sankey Diagram: Booking Flow by Hotel Type and Cancellation Status\", font_size=10)\n",
    "\n",
    "# 显示图表\n",
    "fig.show()"
   ]
  },
  {
   "cell_type": "code",
   "execution_count": 94,
   "metadata": {},
   "outputs": [
    {
     "data": {
      "image/png": "[encoded data removed]",
      "text/plain": [
       "<Figure size 1008x576 with 2 Axes>"
      ]
     },
     "metadata": {
      "needs_background": "light"
     },
     "output_type": "display_data"
    }
   ],
   "source": [
    "#数据可视化2\n",
    "\n",
    "# 确保月份按正确的顺序显示\n",
    "month_order = ['January', 'February', 'March', 'April', 'May', 'June', 'July', 'August', 'September', 'October', 'November', 'December']\n",
    "hotel_data.data['arrival_date_month'] = pd.Categorical(hotel_data.data['arrival_date_month'], categories=month_order, ordered=True)\n",
    "\n",
    "# 计算每个月份的取消率\n",
    "cancel_rate = hotel_data.data.groupby(['arrival_date_month', 'hotel'])['is_canceled'].mean().reset_index()\n",
    "\n",
    "# 计算每个月份的入住人数\n",
    "hotel_data.data['total_guests'] = hotel_data.data['adults'] + hotel_data.data['children'] + hotel_data.data['babies']\n",
    "guests_count = hotel_data.data.groupby(['arrival_date_month', 'hotel'])['total_guests'].sum().reset_index()\n",
    "\n",
    "# 创建画布\n",
    "fig, ax1 = plt.subplots(figsize=(14, 8))\n",
    "\n",
    "sns.barplot(data=guests_count, x='arrival_date_month', y='total_guests', hue='hotel', ax=ax1, palette='pastel', ci=None)\n",
    "ax1.set_ylabel('Total Guests', fontsize=12, color='green')\n",
    "ax1.set_yticks(range(0, int(guests_count['total_guests'].max()) + 1, 500))  # 设置入住人数刻度\n",
    "ax1.tick_params(axis='y', labelcolor='green')\n",
    "\n",
    "# 创建第二个 Y 轴，用于展示入住人数\n",
    "ax2 = ax1.twinx()\n",
    "sns.lineplot(data=cancel_rate, x='arrival_date_month', y='is_canceled', hue='hotel', marker='o', ax=ax2, palette='viridis')\n",
    "ax2.set_ylabel('Cancellation Rate (%)', fontsize=12, color='blue')\n",
    "ax2.set_xlabel('Month', fontsize=12)\n",
    "ax2.set_ylim(0, 1)  # 设置取消率的范围在 0 到 1 之间\n",
    "ax2.set_yticks([i * 0.2 for i in range(6)])  # 设置取消率百分比刻度\n",
    "ax2.tick_params(axis='y', labelcolor='blue')\n",
    "\n",
    "# 设置标题\n",
    "plt.title('Cancellation Rate and Guest Count by Month for Resort and City Hotels', fontsize=16)\n",
    "\n",
    "# 优化布局\n",
    "plt.tight_layout()\n",
    "\n",
    "# 显示图表\n",
    "plt.show()"
   ]
  },
  {
   "cell_type": "code",
   "execution_count": 95,
   "metadata": {},
   "outputs": [
    {
     "name": "stdout",
     "output_type": "stream",
     "text": [
      "Missing values for fields: ['arrival_date_year', 'arrival_date_month', 'arrival_date_week_number', 'arrival_date_day_of_month', 'stays_in_weekend_nights', 'stays_in_week_nights', 'babies', 'meal', 'country', 'market_segment', 'distribution_channel', 'is_repeated_guest', 'previous_cancellations', 'previous_bookings_not_canceled', 'reserved_room_type', 'assigned_room_type', 'booking_changes', 'deposit_type', 'agent', 'company', 'days_in_waiting_list', 'customer_type', 'adr', 'required_car_parking_spaces', 'total_of_special_requests', 'reservation_status', 'reservation_status_date', 'total_guests']. These will be filled with NA.\n",
      "New data added successfully.\n",
      "          hotel  is_canceled  lead_time  arrival_date_year  \\\n",
      "0  Resort Hotel            0         45                NaN   \n",
      "\n",
      "   arrival_date_month  arrival_date_week_number  arrival_date_day_of_month  \\\n",
      "0                 NaN                       NaN                        NaN   \n",
      "\n",
      "   stays_in_weekend_nights  stays_in_week_nights  adults  ...  agent  company  \\\n",
      "0                      NaN                   NaN       2  ...    NaN      NaN   \n",
      "\n",
      "   days_in_waiting_list  customer_type  adr  required_car_parking_spaces  \\\n",
      "0                   NaN            NaN  NaN                          NaN   \n",
      "\n",
      "   total_of_special_requests  reservation_status  reservation_status_date  \\\n",
      "0                        NaN                 NaN                      NaN   \n",
      "\n",
      "   total_guests  \n",
      "0           NaN  \n",
      "\n",
      "[1 rows x 33 columns]\n",
      "Missing values for fields: ['total_guests']. These will be filled with NA.\n",
      "New data added successfully.\n",
      "          hotel  is_canceled  lead_time  arrival_date_year arrival_date_month  \\\n",
      "0  Resort Hotel            0        200               2021               July   \n",
      "\n",
      "   arrival_date_week_number  arrival_date_day_of_month  \\\n",
      "0                        27                          4   \n",
      "\n",
      "   stays_in_weekend_nights  stays_in_week_nights  adults  ...  agent  company  \\\n",
      "0                        2                     5       2  ...   NULL     NULL   \n",
      "\n",
      "  days_in_waiting_list customer_type    adr required_car_parking_spaces  \\\n",
      "0                    0     Transient  100.0                           0   \n",
      "\n",
      "   total_of_special_requests  reservation_status  reservation_status_date  \\\n",
      "0                          0           Check-Out               2021-07-04   \n",
      "\n",
      "  total_guests  \n",
      "0          NaN  \n",
      "\n",
      "[1 rows x 33 columns]\n"
     ]
    }
   ],
   "source": [
    "# 添加新数据示例\n",
    "hotel_data.add_new_data(hotel=\"Resort Hotel\", is_canceled=0, lead_time=45, adults=2, children=0) #添加含有缺失值的新预订记录\n",
    "#添加完整的预订记录\n",
    "new_hotel_data2 = { #新记录字典\n",
    "    'hotel': 'Resort Hotel',\n",
    "    'is_canceled': 0,\n",
    "    'lead_time': 200,\n",
    "    'arrival_date_year': 2021,\n",
    "    'arrival_date_month': 'July',\n",
    "    'arrival_date_week_number': 27,\n",
    "    'arrival_date_day_of_month': 4,\n",
    "    'stays_in_weekend_nights': 2,\n",
    "    'stays_in_week_nights': 5,\n",
    "    'adults': 2,\n",
    "    'children': 1,\n",
    "    'babies': 0,\n",
    "    'meal': 'BB',\n",
    "    'country': 'USA',\n",
    "    'market_segment': 'Direct',\n",
    "    'distribution_channel': 'Direct',\n",
    "    'is_repeated_guest': 0,\n",
    "    'previous_cancellations': 0,\n",
    "    'previous_bookings_not_canceled': 1,\n",
    "    'reserved_room_type': 'A',\n",
    "    'assigned_room_type': 'A',\n",
    "    'booking_changes': 0,\n",
    "    'deposit_type': 'No Deposit',\n",
    "    'agent': 'NULL',\n",
    "    'company': 'NULL',\n",
    "    'days_in_waiting_list': 0,\n",
    "    'customer_type': 'Transient',\n",
    "    'adr': 100.0,\n",
    "    'required_car_parking_spaces': 0,\n",
    "    'total_of_special_requests': 0,\n",
    "    'reservation_status': 'Check-Out',\n",
    "    'reservation_status_date': '2021-07-04'\n",
    "}\n",
    "hotel_data.add_new_data(**new_hotel_data2) #添加\n"
   ]
  },
  {
   "cell_type": "code",
   "execution_count": 96,
   "metadata": {},
   "outputs": [
    {
     "name": "stdout",
     "output_type": "stream",
     "text": [
      "Statistics for numeric field 'lead_time': {'mean': 80.18999585940375, 'max': 737, 'min': 0, 'mode': 0, '25th_percentile': 12.0, 'median': 50.0, '75th_percentile': 125.0, 'kurtosis': 2.117116721715409, 'skewness': 1.4283864634460222}\n",
      "Statistics for numeric field 'adr': {'mean': 106.51160300426159, 'max': 510.0, 'min': 0.0, 'mode': 0.0, '25th_percentile': 72.25, 'median': 98.4, '75th_percentile': 134.1, 'kurtosis': 1.5243967830496663, 'skewness': 0.8647243332220451}\n",
      "Value counts for non-numeric field 'hotel':\n",
      "City Hotel      53421\n",
      "Resort Hotel    33523\n",
      "Name: hotel, dtype: int64\n",
      "Error calculating statistics for field 'test': Field 'test' does not exist in the dataset.\n"
     ]
    }
   ],
   "source": [
    "# 计算字段统计信息\n",
    "hotel_data.field_statistics('lead_time')\n",
    "hotel_data.field_statistics('adr')\n",
    "hotel_data.field_statistics('hotel')\n",
    "hotel_data.field_statistics('test') #检验错误值"
   ]
  },
  {
   "cell_type": "code",
   "execution_count": 97,
   "metadata": {},
   "outputs": [
    {
     "data": {
      "image/png": "[encoded data removed]",
      "text/plain": [
       "<Figure size 432x288 with 1 Axes>"
      ]
     },
     "metadata": {
      "needs_background": "light"
     },
     "output_type": "display_data"
    },
    {
     "data": {
      "image/png": "[encoded data removed]",
      "text/plain": [
       "<Figure size 432x288 with 1 Axes>"
      ]
     },
     "metadata": {
      "needs_background": "light"
     },
     "output_type": "display_data"
    },
    {
     "data": {
      "image/png": "[encoded data removed]",
      "text/plain": [
       "<Figure size 432x288 with 1 Axes>"
      ]
     },
     "metadata": {
      "needs_background": "light"
     },
     "output_type": "display_data"
    },
    {
     "name": "stdout",
     "output_type": "stream",
     "text": [
      "Error visualizing data for field 'test': Field 'test' does not exist in the dataset.\n"
     ]
    }
   ],
   "source": [
    "# 数据可视化示例\n",
    "hotel_data.visualize_data('lead_time')\n",
    "hotel_data.visualize_data('adr')\n",
    "hotel_data.visualize_data('reservation_status')\n",
    "hotel_data.visualize_data('test')#检验错误值"
   ]
  },
  {
   "cell_type": "code",
   "execution_count": 98,
   "metadata": {},
   "outputs": [
    {
     "name": "stdout",
     "output_type": "stream",
     "text": [
      "Preparing data for machine learning...\n",
      "Data prepared successfully.\n"
     ]
    }
   ],
   "source": [
    "# 数据集划分准备\n",
    "hotel_data.prepare_data()"
   ]
  },
  {
   "cell_type": "code",
   "execution_count": 99,
   "metadata": {},
   "outputs": [],
   "source": [
    "# 随机森林与神经网络的参数控制示例，可以手动进行修改调参\n",
    "rf_params = {\n",
    "    'n_estimators':50,  # 决策树的数量\n",
    "    'max_depth': 20,       # 每棵树的最大深度\n",
    "    'min_samples_split': 2# 内部节点再划分所需的最小样本数\n",
    "}\n",
    "\n",
    "mlp_params = {\n",
    "    'epochs': 20 ,        # 训练的最大轮次\n",
    "    'dropout_rate': 0.2 ,\n",
    "    'learning_rate': 0.001, # 学习率\n",
    "    'patience': 5          # 提前停止的轮次\n",
    "}"
   ]
  },
  {
   "cell_type": "code",
   "execution_count": 100,
   "metadata": {},
   "outputs": [
    {
     "name": "stdout",
     "output_type": "stream",
     "text": [
      "Training Random Forest...\n",
      "Random Forest Accuracy: 0.9731439415722584\n",
      "             precision    recall  f1-score   support\n",
      "\n",
      "          0       0.96      1.00      0.98     12683\n",
      "          1       1.00      0.90      0.95      4706\n",
      "\n",
      "avg / total       0.97      0.97      0.97     17389\n",
      "\n",
      "Top 10 important features:\n",
      "[(0.5249039047110129, 'reservation_status_Check-Out'), (0.0337275678678777, 'lead_time'), (0.02651492551488959, 'reservation_status_No-Show'), (0.024344337139977034, 'market_segment_Online TA'), (0.023908769391529413, 'previous_cancellations'), (0.023898519101291548, 'agent_9.0'), (0.02308276370497758, 'country_PRT'), (0.0230308892016456, 'total_of_special_requests'), (0.020134020556996413, 'required_car_parking_spaces'), (0.018790401167700355, 'deposit_type_Non Refund')]\n",
      "Training Neural Network...\n",
      "Epoch 1/15\n",
      "1739/1739 [==============================] - 3s 1ms/step - loss: 0.6103 - accuracy: 0.7873 - val_loss: 0.2232 - val_accuracy: 0.9126\n",
      "Epoch 2/15\n",
      "1739/1739 [==============================] - 2s 1ms/step - loss: 0.0874 - accuracy: 0.9719 - val_loss: 0.0210 - val_accuracy: 0.9981\n",
      "Epoch 3/15\n",
      "1739/1739 [==============================] - 2s 1ms/step - loss: 0.1481 - accuracy: 0.9264 - val_loss: 0.0162 - val_accuracy: 0.9999\n",
      "Epoch 4/15\n",
      "1739/1739 [==============================] - 2s 1ms/step - loss: 0.4934 - accuracy: 0.7634 - val_loss: 0.5907 - val_accuracy: 0.7226\n",
      "Epoch 5/15\n",
      "1739/1739 [==============================] - 2s 1ms/step - loss: 0.5904 - accuracy: 0.7228 - val_loss: 0.5906 - val_accuracy: 0.7226\n",
      "Epoch 6/15\n",
      "1739/1739 [==============================] - 2s 1ms/step - loss: 0.5905 - accuracy: 0.7228 - val_loss: 0.5905 - val_accuracy: 0.7226\n",
      "Epoch 7/15\n",
      "1739/1739 [==============================] - 2s 1ms/step - loss: 0.5905 - accuracy: 0.7228 - val_loss: 0.5905 - val_accuracy: 0.7226\n",
      "Epoch 8/15\n",
      "1739/1739 [==============================] - 2s 1ms/step - loss: 0.5905 - accuracy: 0.7228 - val_loss: 0.5907 - val_accuracy: 0.7226\n",
      "544/544 [==============================] - 0s 602us/step - loss: 0.0156 - accuracy: 0.9999\n",
      "Neural Network Accuracy: 0.9999424815177917\n"
     ]
    },
    {
     "data": {
      "image/png": "[encoded data removed]",
      "text/plain": [
       "<Figure size 432x288 with 1 Axes>"
      ]
     },
     "metadata": {
      "needs_background": "light"
     },
     "output_type": "display_data"
    },
    {
     "data": {
      "text/plain": [
       "0.9999424815177917"
      ]
     },
     "execution_count": 100,
     "metadata": {},
     "output_type": "execute_result"
    }
   ],
   "source": [
    "warnings.filterwarnings(\"ignore\")\n",
    "#按照默认值训练\n",
    "hotel_data.random_forest_study(n_estimators = 50, max_depth = 20, min_samples_split = 2)\n",
    "hotel_data.mlp_study(epochs = 15, dropout_rate = 0.2, learning_rate = 0.001, patience = 5) "
   ]
  },
  {
   "cell_type": "code",
   "execution_count": 101,
   "metadata": {},
   "outputs": [
    {
     "name": "stdout",
     "output_type": "stream",
     "text": [
      "Training Neural Network...\n",
      "Epoch 1/15\n",
      "1739/1739 [==============================] - 3s 1ms/step - loss: 1.0210 - accuracy: 0.7331 - val_loss: 0.2239 - val_accuracy: 0.9521\n",
      "Epoch 2/15\n",
      "1739/1739 [==============================] - 2s 1ms/step - loss: 0.1291 - accuracy: 0.9609 - val_loss: 0.0154 - val_accuracy: 0.9996\n",
      "Epoch 3/15\n",
      "1739/1739 [==============================] - 2s 1ms/step - loss: 0.0202 - accuracy: 0.9968 - val_loss: 0.0123 - val_accuracy: 0.9999\n",
      "Epoch 4/15\n",
      "1739/1739 [==============================] - 2s 1ms/step - loss: 0.0433 - accuracy: 0.9871 - val_loss: 0.0332 - val_accuracy: 0.9971\n",
      "Epoch 5/15\n",
      "1739/1739 [==============================] - 2s 1ms/step - loss: 0.0267 - accuracy: 0.9931 - val_loss: 0.0014 - val_accuracy: 1.0000\n",
      "Epoch 6/15\n",
      "1739/1739 [==============================] - 2s 1ms/step - loss: 0.0544 - accuracy: 0.9838 - val_loss: 0.0575 - val_accuracy: 1.0000\n",
      "Epoch 7/15\n",
      "1739/1739 [==============================] - 2s 1ms/step - loss: 0.1060 - accuracy: 0.9475 - val_loss: 0.0016 - val_accuracy: 0.9998\n",
      "Epoch 8/15\n",
      "1739/1739 [==============================] - 2s 1ms/step - loss: 0.1060 - accuracy: 0.9657 - val_loss: 0.2136 - val_accuracy: 0.8812\n",
      "Epoch 9/15\n",
      "1739/1739 [==============================] - 2s 1ms/step - loss: 0.2766 - accuracy: 0.8530 - val_loss: 0.1316 - val_accuracy: 0.9997\n",
      "Epoch 10/15\n",
      "1739/1739 [==============================] - 2s 1ms/step - loss: 0.3303 - accuracy: 0.8236 - val_loss: 0.5905 - val_accuracy: 0.7226\n",
      "544/544 [==============================] - 0s 621us/step - loss: 0.0013 - accuracy: 1.0000\n",
      "Neural Network Accuracy: 1.0\n"
     ]
    },
    {
     "data": {
      "image/png": "[encoded data removed]",
      "text/plain": [
       "<Figure size 432x288 with 1 Axes>"
      ]
     },
     "metadata": {
      "needs_background": "light"
     },
     "output_type": "display_data"
    },
    {
     "data": {
      "text/plain": [
       "1.0"
      ]
     },
     "execution_count": 101,
     "metadata": {},
     "output_type": "execute_result"
    }
   ],
   "source": [
    "hotel_data.mlp_study(epochs = 15, dropout_rate = 0.2, learning_rate = 0.0005, patience = 5)"
   ]
  },
  {
   "cell_type": "code",
   "execution_count": 102,
   "metadata": {},
   "outputs": [
    {
     "name": "stdout",
     "output_type": "stream",
     "text": [
      "Training Neural Network...\n",
      "Epoch 1/15\n",
      "1739/1739 [==============================] - 2s 1ms/step - loss: 2.0654 - accuracy: 0.6411 - val_loss: 0.5181 - val_accuracy: 0.7399\n",
      "Epoch 2/15\n",
      "1739/1739 [==============================] - 2s 1ms/step - loss: 0.5687 - accuracy: 0.7300 - val_loss: 0.4127 - val_accuracy: 0.8762\n",
      "Epoch 3/15\n",
      "1739/1739 [==============================] - 2s 1ms/step - loss: 0.3701 - accuracy: 0.8437 - val_loss: 0.2299 - val_accuracy: 0.9544\n",
      "Epoch 4/15\n",
      "1739/1739 [==============================] - 2s 1ms/step - loss: 0.1852 - accuracy: 0.9426 - val_loss: 0.0906 - val_accuracy: 0.9868\n",
      "Epoch 5/15\n",
      "1739/1739 [==============================] - 2s 1ms/step - loss: 0.0771 - accuracy: 0.9846 - val_loss: 0.0287 - val_accuracy: 0.9977\n",
      "Epoch 6/15\n",
      "1739/1739 [==============================] - 2s 1ms/step - loss: 0.0277 - accuracy: 0.9970 - val_loss: 0.0082 - val_accuracy: 0.9998\n",
      "Epoch 7/15\n",
      "1739/1739 [==============================] - 2s 1ms/step - loss: 0.0111 - accuracy: 0.9988 - val_loss: 0.0094 - val_accuracy: 0.9991\n",
      "Epoch 8/15\n",
      "1739/1739 [==============================] - 2s 1ms/step - loss: 0.0049 - accuracy: 0.9996 - val_loss: 6.4454e-04 - val_accuracy: 1.0000\n",
      "Epoch 9/15\n",
      "1739/1739 [==============================] - 2s 1ms/step - loss: 0.0024 - accuracy: 0.9998 - val_loss: 2.2804e-04 - val_accuracy: 1.0000\n",
      "Epoch 10/15\n",
      "1739/1739 [==============================] - 2s 1ms/step - loss: 0.0025 - accuracy: 0.9997 - val_loss: 3.4490e-04 - val_accuracy: 1.0000\n",
      "Epoch 11/15\n",
      "1739/1739 [==============================] - 2s 1ms/step - loss: 0.0019 - accuracy: 0.9998 - val_loss: 6.7728e-05 - val_accuracy: 1.0000\n",
      "Epoch 12/15\n",
      "1739/1739 [==============================] - 2s 1ms/step - loss: 0.0027 - accuracy: 0.9996 - val_loss: 2.1502e-04 - val_accuracy: 1.0000\n",
      "Epoch 13/15\n",
      "1739/1739 [==============================] - 2s 1ms/step - loss: 0.0023 - accuracy: 0.9997 - val_loss: 1.5129e-04 - val_accuracy: 1.0000\n",
      "544/544 [==============================] - 0s 612us/step - loss: 6.0602e-04 - accuracy: 1.0000\n",
      "Neural Network Accuracy: 1.0\n"
     ]
    },
    {
     "data": {
      "image/png": "[encoded data removed]",
      "text/plain": [
       "<Figure size 432x288 with 1 Axes>"
      ]
     },
     "metadata": {
      "needs_background": "light"
     },
     "output_type": "display_data"
    },
    {
     "data": {
      "text/plain": [
       "1.0"
      ]
     },
     "execution_count": 102,
     "metadata": {},
     "output_type": "execute_result"
    }
   ],
   "source": [
    "hotel_data.mlp_study(epochs = 15, dropout_rate = 0.2, learning_rate = 0.0001, patience = 5) #测试"
   ]
  },
  {
   "cell_type": "code",
   "execution_count": 103,
   "metadata": {},
   "outputs": [
    {
     "name": "stdout",
     "output_type": "stream",
     "text": [
      "Training Random Forest...\n",
      "Random Forest Accuracy: 0.9933291161078843\n",
      "             precision    recall  f1-score   support\n",
      "\n",
      "          0       0.99      1.00      1.00     12683\n",
      "          1       1.00      0.98      0.99      4706\n",
      "\n",
      "avg / total       0.99      0.99      0.99     17389\n",
      "\n",
      "Top 10 important features:\n",
      "[(0.5418683873997372, 'reservation_status_Check-Out'), (0.03608339671087697, 'lead_time'), (0.02960677591122644, 'total_of_special_requests'), (0.025552863482286206, 'market_segment_Online TA'), (0.022635994479471996, 'country_PRT'), (0.021711077391170466, 'required_car_parking_spaces'), (0.021662391219258025, 'agent_9.0'), (0.021401757433690174, 'reservation_status_No-Show'), (0.015313631027682628, 'previous_cancellations'), (0.014198086060593942, 'deposit_type_Non Refund')]\n"
     ]
    },
    {
     "data": {
      "text/plain": [
       "0.9933291161078843"
      ]
     },
     "execution_count": 103,
     "metadata": {},
     "output_type": "execute_result"
    }
   ],
   "source": [
    "warnings.filterwarnings(\"ignore\")\n",
    "hotel_data.random_forest_study(n_estimators = 75, max_depth = 25, min_samples_split = 2) #调整参数再次尝试"
   ]
  },
  {
   "cell_type": "code",
   "execution_count": 104,
   "metadata": {},
   "outputs": [
    {
     "name": "stdout",
     "output_type": "stream",
     "text": [
      "Training Random Forest...\n",
      "Random Forest Accuracy: 0.9998274771407212\n",
      "             precision    recall  f1-score   support\n",
      "\n",
      "          0       1.00      1.00      1.00     12683\n",
      "          1       1.00      1.00      1.00      4706\n",
      "\n",
      "avg / total       1.00      1.00      1.00     17389\n",
      "\n",
      "Top 10 important features:\n",
      "[(0.5503673445503625, 'reservation_status_Check-Out'), (0.03639135989545775, 'lead_time'), (0.02532809191706752, 'country_PRT'), (0.025312703212939245, 'total_of_special_requests'), (0.016019644514455176, 'required_car_parking_spaces'), (0.015669343902665504, 'agent_9.0'), (0.015497073053797708, 'market_segment_Online TA'), (0.01537378730305531, 'adr'), (0.014103499578373306, 'reservation_status_No-Show'), (0.010616089426613356, 'stays_in_week_nights')]\n"
     ]
    },
    {
     "data": {
      "text/plain": [
       "0.9998274771407212"
      ]
     },
     "execution_count": 104,
     "metadata": {},
     "output_type": "execute_result"
    }
   ],
   "source": [
    "warnings.filterwarnings(\"ignore\")\n",
    "hotel_data.random_forest_study(n_estimators = 100, max_depth = 50, min_samples_split = 2) #更大的参数"
   ]
  },
  {
   "cell_type": "code",
   "execution_count": 37,
   "metadata": {},
   "outputs": [
    {
     "name": "stdout",
     "output_type": "stream",
     "text": [
      "Comparing Random Forest and Neural Network...\n",
      "Training Random Forest...\n",
      "Random Forest Accuracy: 0.9924085576259489\n",
      "             precision    recall  f1-score   support\n",
      "\n",
      "          0       0.99      1.00      0.99     12637\n",
      "          1       1.00      0.97      0.99      4751\n",
      "\n",
      "avg / total       0.99      0.99      0.99     17388\n",
      "\n",
      "Training Neural Network...\n",
      "Epoch 1/20\n",
      "1739/1739 [==============================] - 2s 1ms/step - loss: 0.8144 - accuracy: 0.7691 - val_loss: 0.1733 - val_accuracy: 0.9349\n",
      "Epoch 2/20\n",
      "1739/1739 [==============================] - 2s 1ms/step - loss: 0.0915 - accuracy: 0.9734 - val_loss: 0.0567 - val_accuracy: 0.9945\n",
      "Epoch 3/20\n",
      "1739/1739 [==============================] - 2s 1ms/step - loss: 0.1551 - accuracy: 0.9332 - val_loss: 0.1501 - val_accuracy: 0.9998\n",
      "Epoch 4/20\n",
      "1739/1739 [==============================] - 2s 1ms/step - loss: 0.2702 - accuracy: 0.8569 - val_loss: 0.1125 - val_accuracy: 0.9999\n",
      "Epoch 5/20\n",
      "1739/1739 [==============================] - 2s 1ms/step - loss: 0.4453 - accuracy: 0.7770 - val_loss: 0.5928 - val_accuracy: 0.7202\n",
      "Epoch 6/20\n",
      "1739/1739 [==============================] - 2s 1ms/step - loss: 0.5902 - accuracy: 0.7242 - val_loss: 0.5927 - val_accuracy: 0.7202\n",
      "Epoch 7/20\n",
      "1739/1739 [==============================] - 2s 1ms/step - loss: 0.5891 - accuracy: 0.7242 - val_loss: 0.5934 - val_accuracy: 0.7202\n",
      "Epoch 8/20\n",
      "1739/1739 [==============================] - 2s 1ms/step - loss: 0.5891 - accuracy: 0.7242 - val_loss: 0.5928 - val_accuracy: 0.7202\n",
      "Epoch 9/20\n",
      "1739/1739 [==============================] - 2s 1ms/step - loss: 0.5891 - accuracy: 0.7242 - val_loss: 0.5928 - val_accuracy: 0.7202\n",
      "544/544 [==============================] - 0s 558us/step - loss: 0.1102 - accuracy: 0.9996\n",
      "Neural Network Accuracy: 0.999597430229187\n"
     ]
    },
    {
     "data": {
      "image/png": "[encoded data removed]",
      "text/plain": [
       "<Figure size 432x288 with 1 Axes>"
      ]
     },
     "metadata": {
      "needs_background": "light"
     },
     "output_type": "display_data"
    },
    {
     "name": "stdout",
     "output_type": "stream",
     "text": [
      "Random Forest Accuracy: 0.9924, Neural Network Accuracy: 0.9996\n"
     ]
    }
   ],
   "source": [
    "#另一种方法——使用参数字典的方式训练\n",
    "warnings.filterwarnings(\"ignore\")\n",
    "hotel_data.compare_methods(rf_params=rf_params, mlp_params=mlp_params)"
   ]
  },
  {
   "cell_type": "code",
   "execution_count": 64,
   "metadata": {},
   "outputs": [
    {
     "name": "stdout",
     "output_type": "stream",
     "text": [
      "Summarizing model performance...\n"
     ]
    },
    {
     "data": {
      "image/png": "[encoded data removed]",
      "text/plain": [
       "<Figure size 432x288 with 1 Axes>"
      ]
     },
     "metadata": {
      "needs_background": "light"
     },
     "output_type": "display_data"
    },
    {
     "data": {
      "image/png": "[encoded data removed]",
      "text/plain": [
       "<Figure size 720x432 with 1 Axes>"
      ]
     },
     "metadata": {
      "needs_background": "light"
     },
     "output_type": "display_data"
    },
    {
     "name": "stdout",
     "output_type": "stream",
     "text": [
      "Neural Network performed better with an accuracy of 1.0000 compared to Random Forest's 0.9961.\n"
     ]
    },
    {
     "data": {
      "text/plain": [
       "\"Neural Network performed better with an accuracy of 1.0000 compared to Random Forest's 0.9961.\""
      ]
     },
     "execution_count": 64,
     "metadata": {},
     "output_type": "execute_result"
    }
   ],
   "source": [
    "# 总结\n",
    "hotel_data.summarize()"
   ]
  },
  {
   "cell_type": "code",
   "execution_count": 69,
   "metadata": {},
   "outputs": [
    {
     "name": "stdout",
     "output_type": "stream",
     "text": [
      "Random Forest model predicts cancellation probability: 0.7003\n",
      "Neural Network model predicts cancellation probability: 1.0000\n"
     ]
    }
   ],
   "source": [
    "#构造一条很可能退订的预订信息\n",
    "high_cancellation_record = {\n",
    "    'hotel': 'Resort Hotel',\n",
    "    'is_repeated_guest': 0,          # 非回头客\n",
    "    'lead_time': 365,               # 提前时间极长\n",
    "    'arrival_date_year': 2024,\n",
    "    'arrival_date_month': 'December',\n",
    "    'arrival_date_week_number': 52,\n",
    "    'arrival_date_day_of_month': 31,\n",
    "    'stays_in_weekend_nights': 0,   # 周末天数少\n",
    "    'stays_in_week_nights': 1,      # 工作日天数少\n",
    "    'adults': 1,                    # 仅1个成人\n",
    "    'children': 0,                  # 无儿童\n",
    "    'babies': 0,                    # 无婴儿\n",
    "    'meal': 'BB',                   # 早餐计划\n",
    "    'country': 'PRT',               # 预订来源国家\n",
    "    'market_segment': 'Online TA',  # 在线旅行社预订\n",
    "    'distribution_channel': 'TA/TO',\n",
    "    'is_repeated_guest': 0,\n",
    "    'previous_cancellations': 3,    # 高取消历史记录\n",
    "    'previous_bookings_not_canceled': 0,\n",
    "    'reserved_room_type': 'A',\n",
    "    'assigned_room_type': 'A',\n",
    "    'booking_changes': 0,\n",
    "    'deposit_type': 'Non Refund',   # 非退款政策\n",
    "    'agent': 1,\n",
    "    'days_in_waiting_list': 100,    # 较长的等待时间\n",
    "    'customer_type': 'Transient',\n",
    "    'adr': 200,                     # 高房价\n",
    "    'required_car_parking_spaces': 0,\n",
    "    'total_of_special_requests': 0  # 无特殊需求\n",
    "}\n",
    "\n",
    "# 使用训练好的模型预测退订概率\n",
    "hotel_data.predict_cancellation_probability(high_cancellation_record)"
   ]
  },
  {
   "cell_type": "code",
   "execution_count": null,
   "metadata": {},
   "outputs": [],
   "source": []
  }
 ],
 "metadata": {
  "kernelspec": {
   "display_name": "Python 3",
   "language": "python",
   "name": "python3"
  },
  "language_info": {
   "codemirror_mode": {
    "name": "ipython",
    "version": 3
   },
   "file_extension": ".py",
   "mimetype": "text/x-python",
   "name": "python",
   "nbconvert_exporter": "python",
   "pygments_lexer": "ipython3",
   "version": "3.7.0"
  }
 },
 "nbformat": 4,
 "nbformat_minor": 2
}
